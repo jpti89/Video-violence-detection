{
  "metadata": {
    "kernelspec": {
      "display_name": "Python 3",
      "name": "python3"
    },
    "language_info": {
      "name": "python",
      "version": "3.7.10",
      "mimetype": "text/x-python",
      "codemirror_mode": {
        "name": "ipython",
        "version": 3
      },
      "pygments_lexer": "ipython3",
      "nbconvert_exporter": "python",
      "file_extension": ".py"
    },
    "colab": {
      "provenance": [],
      "gpuType": "V28",
      "include_colab_link": true
    },
    "accelerator": "TPU"
  },
  "nbformat_minor": 0,
  "nbformat": 4,
  "cells": [
    {
      "cell_type": "markdown",
      "metadata": {
        "id": "view-in-github",
        "colab_type": "text"
      },
      "source": [
        "<a href=\"https://colab.research.google.com/github/jpti89/Video-violence-detection/blob/main/Train_violence_model.ipynb\" target=\"_parent\"><img src=\"https://colab.research.google.com/assets/colab-badge.svg\" alt=\"Open In Colab\"/></a>"
      ]
    },
    {
      "cell_type": "markdown",
      "source": [
        "# Training Violence detection model using Tensorflow Keras + MobileNetV2 model\n",
        "\n",
        "Using the dataset from Kaggle https://www.kaggle.com/datasets/mohamedmustafa/real-life-violence-situations-dataset we managed to fine-tune and train a CNN model.\n",
        "\n",
        "The architecture of the Full project is:\n",
        "- Download the Dataset from Google Drive\n",
        "- Extract image frames of every video standarizing every image at 128x128 px\n",
        "- Separating the images in train and test sets\n",
        "- Load the MobileNetV2\n",
        "- Finetune the learning rates, epochs and batch size to get the best results\n",
        "- Train the model\n",
        "- Save weights and model\n",
        "- Evaluate\n",
        "\n",
        "\n",
        "The labels of each frame are mantained for the whole video. That means, if there's violence only in some frames of the video, the network learns from the whole video anyway. This could generate a problem with some incorrect predictions using videos from outside the traning dataset.\n",
        "\n",
        "MobileNetV2 was choosen because it's lightweight, fast and easy to train model, accurate for our CNN clasification use case."
      ],
      "metadata": {
        "id": "lM34THSfAHyb"
      }
    },
    {
      "cell_type": "markdown",
      "source": [
        "## Setup of the project"
      ],
      "metadata": {
        "id": "russzt8OFxy4"
      }
    },
    {
      "cell_type": "code",
      "source": [
        "# Create paths if not exist\n",
        "import os\n",
        "import platform\n",
        "from IPython.display import clear_output\n",
        "print(platform.platform())\n",
        "\n",
        "def resolve_dir(Dir):\n",
        "    if not os.path.exists(Dir):\n",
        "        os.mkdir(Dir)\n",
        "\n",
        "def reset_path(Dir):\n",
        "    if not os.path.exists(Dir):\n",
        "        os.mkdir(Dir)\n",
        "    else:\n",
        "        os.system('rm -f {}/*'.format( Dir))"
      ],
      "metadata": {
        "id": "YMm4qVv5qtGE",
        "outputId": "9f7356ae-fb80-42cd-c659-e04cf4f1d0a8",
        "execution": {
          "iopub.status.busy": "2021-06-28T21:12:08.175772Z",
          "iopub.execute_input": "2021-06-28T21:12:08.176151Z",
          "iopub.status.idle": "2021-06-28T21:12:08.188567Z",
          "shell.execute_reply.started": "2021-06-28T21:12:08.176065Z",
          "shell.execute_reply": "2021-06-28T21:12:08.187647Z"
        },
        "trusted": true,
        "colab": {
          "base_uri": "https://localhost:8080/"
        }
      },
      "execution_count": null,
      "outputs": [
        {
          "output_type": "stream",
          "name": "stdout",
          "text": [
            "Linux-6.1.58+-x86_64-with-glibc2.35\n"
          ]
        }
      ]
    },
    {
      "cell_type": "code",
      "source": [
        "# Use Google Colab TPU\n",
        "import tensorflow as tf\n",
        "tf.random.set_seed(805)\n",
        "TPU_INIT = False\n",
        "\n",
        "if TPU_INIT:\n",
        "    try:\n",
        "        tpu = tf.distribute.cluster_resolver.TPUClusterResolver.connect()\n",
        "        tpu_strategy = tf.distribute.experimental.TPUStrategy(tpu)\n",
        "\n",
        "    except ValueError:\n",
        "        raise BaseException('ERROR: Not connected to a TPU runtime!')\n",
        "else:\n",
        "    !nvidia-smi\n",
        ";\n",
        "print(\"Tensorflow version \" + tf.__version__)"
      ],
      "metadata": {
        "id": "m77ifGzHqtBg",
        "outputId": "34cb13d7-1b28-4228-f5ad-ccb5d1c2010e",
        "execution": {
          "iopub.status.busy": "2021-06-28T21:12:12.538912Z",
          "iopub.execute_input": "2021-06-28T21:12:12.539247Z",
          "iopub.status.idle": "2021-06-28T21:12:18.360385Z",
          "shell.execute_reply.started": "2021-06-28T21:12:12.539218Z",
          "shell.execute_reply": "2021-06-28T21:12:18.359448Z"
        },
        "trusted": true,
        "colab": {
          "base_uri": "https://localhost:8080/"
        }
      },
      "execution_count": null,
      "outputs": [
        {
          "output_type": "stream",
          "name": "stdout",
          "text": [
            "/bin/bash: line 1: nvidia-smi: command not found\n",
            "Tensorflow version 2.15.0\n"
          ]
        }
      ]
    },
    {
      "cell_type": "code",
      "source": [
        "#Import Dataset from Google Colab\n",
        "from google.colab import drive\n",
        "drive.mount('/content/drive')"
      ],
      "metadata": {
        "colab": {
          "base_uri": "https://localhost:8080/"
        },
        "id": "ehReL4JoAybm",
        "outputId": "9ff8879c-08fc-4cd0-b823-4c7a6a0a4b71"
      },
      "execution_count": null,
      "outputs": [
        {
          "output_type": "stream",
          "name": "stdout",
          "text": [
            "Drive already mounted at /content/drive; to attempt to forcibly remount, call drive.mount(\"/content/drive\", force_remount=True).\n"
          ]
        }
      ]
    },
    {
      "cell_type": "code",
      "source": [
        "# Dataset Working dir\n",
        "\n",
        "MyDrive = '/content/'\n",
        "\n",
        "PROJECT_DIR = '../content/drive/MyDrive/Computer-vision/real-life-violence-situations'\n",
        "!ls {PROJECT_DIR}"
      ],
      "metadata": {
        "id": "DwRUpYt5qs1l",
        "outputId": "14b092c2-34fe-458a-bb58-b7a49c5c5d8e",
        "execution": {
          "iopub.status.busy": "2021-06-28T21:12:26.392057Z",
          "iopub.execute_input": "2021-06-28T21:12:26.392432Z",
          "iopub.status.idle": "2021-06-28T21:12:27.147421Z",
          "shell.execute_reply.started": "2021-06-28T21:12:26.392397Z",
          "shell.execute_reply": "2021-06-28T21:12:27.146411Z"
        },
        "trusted": true,
        "colab": {
          "base_uri": "https://localhost:8080/"
        }
      },
      "execution_count": null,
      "outputs": [
        {
          "output_type": "stream",
          "name": "stdout",
          "text": [
            "Real-Life-Violence-Dataset\n"
          ]
        }
      ]
    },
    {
      "cell_type": "markdown",
      "source": [
        "## **Preprocessing**"
      ],
      "metadata": {
        "id": "S2JKkgIa8Qwc"
      }
    },
    {
      "cell_type": "code",
      "source": [
        "!pip install imgaug"
      ],
      "metadata": {
        "colab": {
          "base_uri": "https://localhost:8080/"
        },
        "id": "Ejwclt78CFtR",
        "outputId": "cc46ae11-cc3c-462b-d1eb-0fd22dbb62c5"
      },
      "execution_count": null,
      "outputs": [
        {
          "output_type": "stream",
          "name": "stdout",
          "text": [
            "Requirement already satisfied: imgaug in /usr/local/lib/python3.10/dist-packages (0.4.0)\n",
            "Requirement already satisfied: six in /usr/local/lib/python3.10/dist-packages (from imgaug) (1.16.0)\n",
            "Requirement already satisfied: numpy>=1.15 in /usr/local/lib/python3.10/dist-packages (from imgaug) (1.25.2)\n",
            "Requirement already satisfied: scipy in /usr/local/lib/python3.10/dist-packages (from imgaug) (1.11.4)\n",
            "Requirement already satisfied: Pillow in /usr/local/lib/python3.10/dist-packages (from imgaug) (10.3.0)\n",
            "Requirement already satisfied: matplotlib in /usr/local/lib/python3.10/dist-packages (from imgaug) (3.7.1)\n",
            "Requirement already satisfied: scikit-image>=0.14.2 in /usr/local/lib/python3.10/dist-packages (from imgaug) (0.19.3)\n",
            "Requirement already satisfied: opencv-python in /usr/local/lib/python3.10/dist-packages (from imgaug) (4.9.0.80)\n",
            "Requirement already satisfied: imageio in /usr/local/lib/python3.10/dist-packages (from imgaug) (2.34.0)\n",
            "Requirement already satisfied: Shapely in /usr/local/lib/python3.10/dist-packages (from imgaug) (2.0.4)\n",
            "Requirement already satisfied: networkx>=2.2 in /usr/local/lib/python3.10/dist-packages (from scikit-image>=0.14.2->imgaug) (3.3)\n",
            "Requirement already satisfied: tifffile>=2019.7.26 in /usr/local/lib/python3.10/dist-packages (from scikit-image>=0.14.2->imgaug) (2024.4.18)\n",
            "Requirement already satisfied: PyWavelets>=1.1.1 in /usr/local/lib/python3.10/dist-packages (from scikit-image>=0.14.2->imgaug) (1.6.0)\n",
            "Requirement already satisfied: packaging>=20.0 in /usr/local/lib/python3.10/dist-packages (from scikit-image>=0.14.2->imgaug) (24.0)\n",
            "Requirement already satisfied: contourpy>=1.0.1 in /usr/local/lib/python3.10/dist-packages (from matplotlib->imgaug) (1.2.1)\n",
            "Requirement already satisfied: cycler>=0.10 in /usr/local/lib/python3.10/dist-packages (from matplotlib->imgaug) (0.12.1)\n",
            "Requirement already satisfied: fonttools>=4.22.0 in /usr/local/lib/python3.10/dist-packages (from matplotlib->imgaug) (4.51.0)\n",
            "Requirement already satisfied: kiwisolver>=1.0.1 in /usr/local/lib/python3.10/dist-packages (from matplotlib->imgaug) (1.4.5)\n",
            "Requirement already satisfied: pyparsing>=2.3.1 in /usr/local/lib/python3.10/dist-packages (from matplotlib->imgaug) (3.1.2)\n",
            "Requirement already satisfied: python-dateutil>=2.7 in /usr/local/lib/python3.10/dist-packages (from matplotlib->imgaug) (2.9.0.post0)\n"
          ]
        }
      ]
    },
    {
      "cell_type": "markdown",
      "source": [
        "### Function to get frames of videos\n",
        "\n",
        "Standarize, affine and rotate image from each video\n"
      ],
      "metadata": {
        "id": "nQ3MpD6EF8da"
      }
    },
    {
      "cell_type": "code",
      "source": [
        "import cv2\n",
        "import os\n",
        "import imageio\n",
        "import imgaug.augmenters as iaa\n",
        "import imgaug as ia\n",
        "\n",
        "# 128x128 standarize image size, 3 channels\n",
        "IMG_SIZE = 128\n",
        "ColorChannels = 3\n",
        "\n",
        "def video_to_frames(video):\n",
        "    vidcap = cv2.VideoCapture(video)\n",
        "\n",
        "    import math\n",
        "    rate = math.floor(vidcap.get(3))\n",
        "    count = 0\n",
        "\n",
        "    ImageFrames = []\n",
        "    while vidcap.isOpened():\n",
        "        ID = vidcap.get(1)\n",
        "        success, image = vidcap.read()\n",
        "\n",
        "        if success:\n",
        "            # skipping frames to avoid duplications\n",
        "            if (ID % 7 == 0):\n",
        "                flip = iaa.Fliplr(1.0)\n",
        "                zoom = iaa.Affine(scale=1.3)\n",
        "                random_brightness = iaa.Multiply((1, 1.3))\n",
        "                rotate = iaa.Affine(rotate=(-25, 25))\n",
        "\n",
        "                image_aug = flip(image = image)\n",
        "                image_aug = random_brightness(image = image_aug)\n",
        "                image_aug = zoom(image = image_aug)\n",
        "                image_aug = rotate(image = image_aug)\n",
        "\n",
        "                rgb_img = cv2.cvtColor(image_aug, cv2.COLOR_BGR2RGB)\n",
        "                resized = cv2.resize(rgb_img, (IMG_SIZE, IMG_SIZE))\n",
        "                ImageFrames.append(resized)\n",
        "\n",
        "            count += 1\n",
        "        else:\n",
        "            break\n",
        "\n",
        "    vidcap.release()\n",
        "\n",
        "    return ImageFrames"
      ],
      "metadata": {
        "execution": {
          "iopub.status.busy": "2021-06-28T21:13:35.503640Z",
          "iopub.execute_input": "2021-06-28T21:13:35.503988Z",
          "iopub.status.idle": "2021-06-28T21:13:37.178990Z",
          "shell.execute_reply.started": "2021-06-28T21:13:35.503957Z",
          "shell.execute_reply": "2021-06-28T21:13:37.178190Z"
        },
        "trusted": true,
        "id": "VtpG50ky8Qwe"
      },
      "execution_count": null,
      "outputs": []
    },
    {
      "cell_type": "code",
      "source": [
        "# Assign the category to each frame extracted from the videos\n",
        "%%time\n",
        "from tqdm import tqdm\n",
        "\n",
        "VideoDataDir = PROJECT_DIR + '/Real-Life-Violence-Dataset'\n",
        "\n",
        "X_original = []\n",
        "y_original = []\n",
        "\n",
        "CLASSES = [\"NonViolence\", \"Violence\"]\n",
        "\n",
        "for category in os.listdir(VideoDataDir):\n",
        "    path = os.path.join(VideoDataDir, category)\n",
        "    class_num = CLASSES.index(category)\n",
        "    for i, video in enumerate(tqdm(os.listdir(path)[0:1000])):\n",
        "        frames = video_to_frames(path + '/' + video)\n",
        "        for j, frame in enumerate(frames):\n",
        "            X_original.append(frame)\n",
        "            y_original.append(class_num)"
      ],
      "metadata": {
        "execution": {
          "iopub.status.busy": "2021-06-28T21:13:41.413870Z",
          "iopub.execute_input": "2021-06-28T21:13:41.414231Z",
          "iopub.status.idle": "2021-06-28T21:17:29.584414Z",
          "shell.execute_reply.started": "2021-06-28T21:13:41.414198Z",
          "shell.execute_reply": "2021-06-28T21:17:29.581822Z"
        },
        "trusted": true,
        "colab": {
          "base_uri": "https://localhost:8080/"
        },
        "id": "Om0G45ti8Qwe",
        "outputId": "08623ee0-844b-4424-a95c-f1ca266ce012"
      },
      "execution_count": null,
      "outputs": [
        {
          "output_type": "stream",
          "name": "stderr",
          "text": [
            "100%|██████████| 1000/1000 [02:46<00:00,  6.00it/s]\n",
            "100%|██████████| 1000/1000 [03:40<00:00,  4.54it/s]"
          ]
        },
        {
          "output_type": "stream",
          "name": "stdout",
          "text": [
            "CPU times: user 16min 27s, sys: 4min 37s, total: 21min 5s\n",
            "Wall time: 6min 27s\n"
          ]
        },
        {
          "output_type": "stream",
          "name": "stderr",
          "text": [
            "\n"
          ]
        }
      ]
    },
    {
      "cell_type": "code",
      "source": [
        "import numpy as np\n",
        "X_original = np.array(X_original).reshape(-1 , IMG_SIZE * IMG_SIZE * 3)\n",
        "y_original = np.array(y_original)\n",
        "len(X_original)"
      ],
      "metadata": {
        "execution": {
          "iopub.status.busy": "2021-06-28T21:18:34.637958Z",
          "iopub.execute_input": "2021-06-28T21:18:34.638320Z",
          "iopub.status.idle": "2021-06-28T21:18:34.864211Z",
          "shell.execute_reply.started": "2021-06-28T21:18:34.638286Z",
          "shell.execute_reply": "2021-06-28T21:18:34.863222Z"
        },
        "trusted": true,
        "colab": {
          "base_uri": "https://localhost:8080/"
        },
        "id": "3lSFfJxP8Qwf",
        "outputId": "4b2e0cda-8cc6-4241-b594-1d9c31a5a9fd"
      },
      "execution_count": null,
      "outputs": [
        {
          "output_type": "execute_result",
          "data": {
            "text/plain": [
              "41837"
            ]
          },
          "metadata": {},
          "execution_count": 8
        }
      ]
    },
    {
      "cell_type": "code",
      "source": [
        "# Split Train and test datasets\n",
        "from sklearn.model_selection import StratifiedShuffleSplit\n",
        "\n",
        "stratified_sample = StratifiedShuffleSplit(n_splits=2, test_size=0.3, random_state=73)\n",
        "\n",
        "for train_index, test_index in stratified_sample.split(X_original, y_original):\n",
        "    X_train, X_test = X_original[train_index], X_original[test_index]\n",
        "    y_train, y_test = y_original[train_index], y_original[test_index]\n",
        "\n",
        "X_train_nn = X_train.reshape(-1, IMG_SIZE, IMG_SIZE, 3) / 255\n",
        "X_test_nn = X_test.reshape(-1, IMG_SIZE, IMG_SIZE, 3) / 255"
      ],
      "metadata": {
        "execution": {
          "iopub.status.busy": "2021-06-28T21:18:40.129780Z",
          "iopub.execute_input": "2021-06-28T21:18:40.130114Z",
          "iopub.status.idle": "2021-06-28T21:18:42.322266Z",
          "shell.execute_reply.started": "2021-06-28T21:18:40.130083Z",
          "shell.execute_reply": "2021-06-28T21:18:42.321377Z"
        },
        "trusted": true,
        "id": "s3nmDjk08Qwf"
      },
      "execution_count": null,
      "outputs": []
    },
    {
      "cell_type": "markdown",
      "source": [
        "## **Model Training**"
      ],
      "metadata": {
        "id": "fvmfQMM0p46i"
      }
    },
    {
      "cell_type": "code",
      "source": [
        "!pip install imutils"
      ],
      "metadata": {
        "execution": {
          "iopub.status.busy": "2021-06-28T21:18:46.747115Z",
          "iopub.execute_input": "2021-06-28T21:18:46.747492Z",
          "iopub.status.idle": "2021-06-28T21:18:56.074221Z",
          "shell.execute_reply.started": "2021-06-28T21:18:46.747463Z",
          "shell.execute_reply": "2021-06-28T21:18:56.073342Z"
        },
        "trusted": true,
        "id": "8gdm3leq8Qwg",
        "colab": {
          "base_uri": "https://localhost:8080/"
        },
        "outputId": "6c302bad-7c02-498f-a6f4-3f5e5b0df621"
      },
      "execution_count": null,
      "outputs": [
        {
          "output_type": "stream",
          "name": "stdout",
          "text": [
            "Requirement already satisfied: imutils in /usr/local/lib/python3.10/dist-packages (0.5.4)\n"
          ]
        }
      ]
    },
    {
      "cell_type": "code",
      "source": [
        "import cv2\n",
        "import os\n",
        "import numpy as np\n",
        "import pickle\n",
        "import matplotlib\n",
        "import keras\n",
        "matplotlib.use(\"Agg\")\n",
        "\n",
        "from keras.layers import Input\n",
        "from keras.models import Model\n",
        "from keras.layers import Dense, Activation, Dropout, Reshape, Permute, Flatten\n",
        "\n",
        "import matplotlib.pyplot as plt"
      ],
      "metadata": {
        "id": "f5SLkPZ2I01J",
        "execution": {
          "iopub.status.busy": "2021-06-28T21:19:00.023698Z",
          "iopub.execute_input": "2021-06-28T21:19:00.024214Z",
          "iopub.status.idle": "2021-06-28T21:19:00.097339Z",
          "shell.execute_reply.started": "2021-06-28T21:19:00.024167Z",
          "shell.execute_reply": "2021-06-28T21:19:00.096328Z"
        },
        "trusted": true
      },
      "execution_count": null,
      "outputs": []
    },
    {
      "cell_type": "code",
      "source": [
        "# Model Setup epochs and base model used\n",
        "epochs = 15\n",
        "\n",
        "from keras import regularizers\n",
        "kernel_regularizer = regularizers.l2(0.0001)\n",
        "\n",
        "from keras.applications import MobileNetV2\n",
        "\n",
        "def load_layers():\n",
        "    input_tensor = Input(shape=(IMG_SIZE, IMG_SIZE, ColorChannels))\n",
        "    baseModel = MobileNetV2(pooling='avg',\n",
        "                            include_top=False,\n",
        "                            input_tensor=input_tensor)\n",
        "\n",
        "    headModel = baseModel.output\n",
        "    headModel = Dense(1, activation=\"sigmoid\")(headModel)\n",
        "    model = Model(inputs=baseModel.input, outputs=headModel)\n",
        "\n",
        "    for layer in baseModel.layers:\n",
        "        layer.trainable = False\n",
        "\n",
        "    print(\"Compiling model...\")\n",
        "    model.compile(loss=\"binary_crossentropy\",\n",
        "                    optimizer='adam',\n",
        "                    metrics=[\"accuracy\"])\n",
        "\n",
        "    return model\n",
        "\n",
        "if TPU_INIT:\n",
        "    with tpu_strategy.scope():\n",
        "        model = load_layers()\n",
        "else:\n",
        "    model = load_layers()\n",
        "\n",
        "model.summary()"
      ],
      "metadata": {
        "id": "dNsCZbY3p8VM",
        "outputId": "f160a3cd-6094-49ca-b825-6b3335636ab6",
        "_kg_hide-output": true,
        "execution": {
          "iopub.status.busy": "2021-06-28T21:19:03.584867Z",
          "iopub.execute_input": "2021-06-28T21:19:03.585235Z",
          "iopub.status.idle": "2021-06-28T21:19:06.799324Z",
          "shell.execute_reply.started": "2021-06-28T21:19:03.585199Z",
          "shell.execute_reply": "2021-06-28T21:19:06.798517Z"
        },
        "trusted": true,
        "colab": {
          "base_uri": "https://localhost:8080/"
        }
      },
      "execution_count": null,
      "outputs": [
        {
          "output_type": "stream",
          "name": "stderr",
          "text": [
            "WARNING:tensorflow:`input_shape` is undefined or non-square, or `rows` is not in [96, 128, 160, 192, 224]. Weights for input shape (224, 224) will be loaded as the default.\n"
          ]
        },
        {
          "output_type": "stream",
          "name": "stdout",
          "text": [
            "Compiling model...\n",
            "Model: \"model\"\n",
            "__________________________________________________________________________________________________\n",
            " Layer (type)                Output Shape                 Param #   Connected to                  \n",
            "==================================================================================================\n",
            " input_1 (InputLayer)        [(None, 128, 128, 3)]        0         []                            \n",
            "                                                                                                  \n",
            " Conv1 (Conv2D)              (None, 64, 64, 32)           864       ['input_1[0][0]']             \n",
            "                                                                                                  \n",
            " bn_Conv1 (BatchNormalizati  (None, 64, 64, 32)           128       ['Conv1[0][0]']               \n",
            " on)                                                                                              \n",
            "                                                                                                  \n",
            " Conv1_relu (ReLU)           (None, 64, 64, 32)           0         ['bn_Conv1[0][0]']            \n",
            "                                                                                                  \n",
            " expanded_conv_depthwise (D  (None, 64, 64, 32)           288       ['Conv1_relu[0][0]']          \n",
            " epthwiseConv2D)                                                                                  \n",
            "                                                                                                  \n",
            " expanded_conv_depthwise_BN  (None, 64, 64, 32)           128       ['expanded_conv_depthwise[0][0\n",
            "  (BatchNormalization)                                              ]']                           \n",
            "                                                                                                  \n",
            " expanded_conv_depthwise_re  (None, 64, 64, 32)           0         ['expanded_conv_depthwise_BN[0\n",
            " lu (ReLU)                                                          ][0]']                        \n",
            "                                                                                                  \n",
            " expanded_conv_project (Con  (None, 64, 64, 16)           512       ['expanded_conv_depthwise_relu\n",
            " v2D)                                                               [0][0]']                      \n",
            "                                                                                                  \n",
            " expanded_conv_project_BN (  (None, 64, 64, 16)           64        ['expanded_conv_project[0][0]'\n",
            " BatchNormalization)                                                ]                             \n",
            "                                                                                                  \n",
            " block_1_expand (Conv2D)     (None, 64, 64, 96)           1536      ['expanded_conv_project_BN[0][\n",
            "                                                                    0]']                          \n",
            "                                                                                                  \n",
            " block_1_expand_BN (BatchNo  (None, 64, 64, 96)           384       ['block_1_expand[0][0]']      \n",
            " rmalization)                                                                                     \n",
            "                                                                                                  \n",
            " block_1_expand_relu (ReLU)  (None, 64, 64, 96)           0         ['block_1_expand_BN[0][0]']   \n",
            "                                                                                                  \n",
            " block_1_pad (ZeroPadding2D  (None, 65, 65, 96)           0         ['block_1_expand_relu[0][0]'] \n",
            " )                                                                                                \n",
            "                                                                                                  \n",
            " block_1_depthwise (Depthwi  (None, 32, 32, 96)           864       ['block_1_pad[0][0]']         \n",
            " seConv2D)                                                                                        \n",
            "                                                                                                  \n",
            " block_1_depthwise_BN (Batc  (None, 32, 32, 96)           384       ['block_1_depthwise[0][0]']   \n",
            " hNormalization)                                                                                  \n",
            "                                                                                                  \n",
            " block_1_depthwise_relu (Re  (None, 32, 32, 96)           0         ['block_1_depthwise_BN[0][0]']\n",
            " LU)                                                                                              \n",
            "                                                                                                  \n",
            " block_1_project (Conv2D)    (None, 32, 32, 24)           2304      ['block_1_depthwise_relu[0][0]\n",
            "                                                                    ']                            \n",
            "                                                                                                  \n",
            " block_1_project_BN (BatchN  (None, 32, 32, 24)           96        ['block_1_project[0][0]']     \n",
            " ormalization)                                                                                    \n",
            "                                                                                                  \n",
            " block_2_expand (Conv2D)     (None, 32, 32, 144)          3456      ['block_1_project_BN[0][0]']  \n",
            "                                                                                                  \n",
            " block_2_expand_BN (BatchNo  (None, 32, 32, 144)          576       ['block_2_expand[0][0]']      \n",
            " rmalization)                                                                                     \n",
            "                                                                                                  \n",
            " block_2_expand_relu (ReLU)  (None, 32, 32, 144)          0         ['block_2_expand_BN[0][0]']   \n",
            "                                                                                                  \n",
            " block_2_depthwise (Depthwi  (None, 32, 32, 144)          1296      ['block_2_expand_relu[0][0]'] \n",
            " seConv2D)                                                                                        \n",
            "                                                                                                  \n",
            " block_2_depthwise_BN (Batc  (None, 32, 32, 144)          576       ['block_2_depthwise[0][0]']   \n",
            " hNormalization)                                                                                  \n",
            "                                                                                                  \n",
            " block_2_depthwise_relu (Re  (None, 32, 32, 144)          0         ['block_2_depthwise_BN[0][0]']\n",
            " LU)                                                                                              \n",
            "                                                                                                  \n",
            " block_2_project (Conv2D)    (None, 32, 32, 24)           3456      ['block_2_depthwise_relu[0][0]\n",
            "                                                                    ']                            \n",
            "                                                                                                  \n",
            " block_2_project_BN (BatchN  (None, 32, 32, 24)           96        ['block_2_project[0][0]']     \n",
            " ormalization)                                                                                    \n",
            "                                                                                                  \n",
            " block_2_add (Add)           (None, 32, 32, 24)           0         ['block_1_project_BN[0][0]',  \n",
            "                                                                     'block_2_project_BN[0][0]']  \n",
            "                                                                                                  \n",
            " block_3_expand (Conv2D)     (None, 32, 32, 144)          3456      ['block_2_add[0][0]']         \n",
            "                                                                                                  \n",
            " block_3_expand_BN (BatchNo  (None, 32, 32, 144)          576       ['block_3_expand[0][0]']      \n",
            " rmalization)                                                                                     \n",
            "                                                                                                  \n",
            " block_3_expand_relu (ReLU)  (None, 32, 32, 144)          0         ['block_3_expand_BN[0][0]']   \n",
            "                                                                                                  \n",
            " block_3_pad (ZeroPadding2D  (None, 33, 33, 144)          0         ['block_3_expand_relu[0][0]'] \n",
            " )                                                                                                \n",
            "                                                                                                  \n",
            " block_3_depthwise (Depthwi  (None, 16, 16, 144)          1296      ['block_3_pad[0][0]']         \n",
            " seConv2D)                                                                                        \n",
            "                                                                                                  \n",
            " block_3_depthwise_BN (Batc  (None, 16, 16, 144)          576       ['block_3_depthwise[0][0]']   \n",
            " hNormalization)                                                                                  \n",
            "                                                                                                  \n",
            " block_3_depthwise_relu (Re  (None, 16, 16, 144)          0         ['block_3_depthwise_BN[0][0]']\n",
            " LU)                                                                                              \n",
            "                                                                                                  \n",
            " block_3_project (Conv2D)    (None, 16, 16, 32)           4608      ['block_3_depthwise_relu[0][0]\n",
            "                                                                    ']                            \n",
            "                                                                                                  \n",
            " block_3_project_BN (BatchN  (None, 16, 16, 32)           128       ['block_3_project[0][0]']     \n",
            " ormalization)                                                                                    \n",
            "                                                                                                  \n",
            " block_4_expand (Conv2D)     (None, 16, 16, 192)          6144      ['block_3_project_BN[0][0]']  \n",
            "                                                                                                  \n",
            " block_4_expand_BN (BatchNo  (None, 16, 16, 192)          768       ['block_4_expand[0][0]']      \n",
            " rmalization)                                                                                     \n",
            "                                                                                                  \n",
            " block_4_expand_relu (ReLU)  (None, 16, 16, 192)          0         ['block_4_expand_BN[0][0]']   \n",
            "                                                                                                  \n",
            " block_4_depthwise (Depthwi  (None, 16, 16, 192)          1728      ['block_4_expand_relu[0][0]'] \n",
            " seConv2D)                                                                                        \n",
            "                                                                                                  \n",
            " block_4_depthwise_BN (Batc  (None, 16, 16, 192)          768       ['block_4_depthwise[0][0]']   \n",
            " hNormalization)                                                                                  \n",
            "                                                                                                  \n",
            " block_4_depthwise_relu (Re  (None, 16, 16, 192)          0         ['block_4_depthwise_BN[0][0]']\n",
            " LU)                                                                                              \n",
            "                                                                                                  \n",
            " block_4_project (Conv2D)    (None, 16, 16, 32)           6144      ['block_4_depthwise_relu[0][0]\n",
            "                                                                    ']                            \n",
            "                                                                                                  \n",
            " block_4_project_BN (BatchN  (None, 16, 16, 32)           128       ['block_4_project[0][0]']     \n",
            " ormalization)                                                                                    \n",
            "                                                                                                  \n",
            " block_4_add (Add)           (None, 16, 16, 32)           0         ['block_3_project_BN[0][0]',  \n",
            "                                                                     'block_4_project_BN[0][0]']  \n",
            "                                                                                                  \n",
            " block_5_expand (Conv2D)     (None, 16, 16, 192)          6144      ['block_4_add[0][0]']         \n",
            "                                                                                                  \n",
            " block_5_expand_BN (BatchNo  (None, 16, 16, 192)          768       ['block_5_expand[0][0]']      \n",
            " rmalization)                                                                                     \n",
            "                                                                                                  \n",
            " block_5_expand_relu (ReLU)  (None, 16, 16, 192)          0         ['block_5_expand_BN[0][0]']   \n",
            "                                                                                                  \n",
            " block_5_depthwise (Depthwi  (None, 16, 16, 192)          1728      ['block_5_expand_relu[0][0]'] \n",
            " seConv2D)                                                                                        \n",
            "                                                                                                  \n",
            " block_5_depthwise_BN (Batc  (None, 16, 16, 192)          768       ['block_5_depthwise[0][0]']   \n",
            " hNormalization)                                                                                  \n",
            "                                                                                                  \n",
            " block_5_depthwise_relu (Re  (None, 16, 16, 192)          0         ['block_5_depthwise_BN[0][0]']\n",
            " LU)                                                                                              \n",
            "                                                                                                  \n",
            " block_5_project (Conv2D)    (None, 16, 16, 32)           6144      ['block_5_depthwise_relu[0][0]\n",
            "                                                                    ']                            \n",
            "                                                                                                  \n",
            " block_5_project_BN (BatchN  (None, 16, 16, 32)           128       ['block_5_project[0][0]']     \n",
            " ormalization)                                                                                    \n",
            "                                                                                                  \n",
            " block_5_add (Add)           (None, 16, 16, 32)           0         ['block_4_add[0][0]',         \n",
            "                                                                     'block_5_project_BN[0][0]']  \n",
            "                                                                                                  \n",
            " block_6_expand (Conv2D)     (None, 16, 16, 192)          6144      ['block_5_add[0][0]']         \n",
            "                                                                                                  \n",
            " block_6_expand_BN (BatchNo  (None, 16, 16, 192)          768       ['block_6_expand[0][0]']      \n",
            " rmalization)                                                                                     \n",
            "                                                                                                  \n",
            " block_6_expand_relu (ReLU)  (None, 16, 16, 192)          0         ['block_6_expand_BN[0][0]']   \n",
            "                                                                                                  \n",
            " block_6_pad (ZeroPadding2D  (None, 17, 17, 192)          0         ['block_6_expand_relu[0][0]'] \n",
            " )                                                                                                \n",
            "                                                                                                  \n",
            " block_6_depthwise (Depthwi  (None, 8, 8, 192)            1728      ['block_6_pad[0][0]']         \n",
            " seConv2D)                                                                                        \n",
            "                                                                                                  \n",
            " block_6_depthwise_BN (Batc  (None, 8, 8, 192)            768       ['block_6_depthwise[0][0]']   \n",
            " hNormalization)                                                                                  \n",
            "                                                                                                  \n",
            " block_6_depthwise_relu (Re  (None, 8, 8, 192)            0         ['block_6_depthwise_BN[0][0]']\n",
            " LU)                                                                                              \n",
            "                                                                                                  \n",
            " block_6_project (Conv2D)    (None, 8, 8, 64)             12288     ['block_6_depthwise_relu[0][0]\n",
            "                                                                    ']                            \n",
            "                                                                                                  \n",
            " block_6_project_BN (BatchN  (None, 8, 8, 64)             256       ['block_6_project[0][0]']     \n",
            " ormalization)                                                                                    \n",
            "                                                                                                  \n",
            " block_7_expand (Conv2D)     (None, 8, 8, 384)            24576     ['block_6_project_BN[0][0]']  \n",
            "                                                                                                  \n",
            " block_7_expand_BN (BatchNo  (None, 8, 8, 384)            1536      ['block_7_expand[0][0]']      \n",
            " rmalization)                                                                                     \n",
            "                                                                                                  \n",
            " block_7_expand_relu (ReLU)  (None, 8, 8, 384)            0         ['block_7_expand_BN[0][0]']   \n",
            "                                                                                                  \n",
            " block_7_depthwise (Depthwi  (None, 8, 8, 384)            3456      ['block_7_expand_relu[0][0]'] \n",
            " seConv2D)                                                                                        \n",
            "                                                                                                  \n",
            " block_7_depthwise_BN (Batc  (None, 8, 8, 384)            1536      ['block_7_depthwise[0][0]']   \n",
            " hNormalization)                                                                                  \n",
            "                                                                                                  \n",
            " block_7_depthwise_relu (Re  (None, 8, 8, 384)            0         ['block_7_depthwise_BN[0][0]']\n",
            " LU)                                                                                              \n",
            "                                                                                                  \n",
            " block_7_project (Conv2D)    (None, 8, 8, 64)             24576     ['block_7_depthwise_relu[0][0]\n",
            "                                                                    ']                            \n",
            "                                                                                                  \n",
            " block_7_project_BN (BatchN  (None, 8, 8, 64)             256       ['block_7_project[0][0]']     \n",
            " ormalization)                                                                                    \n",
            "                                                                                                  \n",
            " block_7_add (Add)           (None, 8, 8, 64)             0         ['block_6_project_BN[0][0]',  \n",
            "                                                                     'block_7_project_BN[0][0]']  \n",
            "                                                                                                  \n",
            " block_8_expand (Conv2D)     (None, 8, 8, 384)            24576     ['block_7_add[0][0]']         \n",
            "                                                                                                  \n",
            " block_8_expand_BN (BatchNo  (None, 8, 8, 384)            1536      ['block_8_expand[0][0]']      \n",
            " rmalization)                                                                                     \n",
            "                                                                                                  \n",
            " block_8_expand_relu (ReLU)  (None, 8, 8, 384)            0         ['block_8_expand_BN[0][0]']   \n",
            "                                                                                                  \n",
            " block_8_depthwise (Depthwi  (None, 8, 8, 384)            3456      ['block_8_expand_relu[0][0]'] \n",
            " seConv2D)                                                                                        \n",
            "                                                                                                  \n",
            " block_8_depthwise_BN (Batc  (None, 8, 8, 384)            1536      ['block_8_depthwise[0][0]']   \n",
            " hNormalization)                                                                                  \n",
            "                                                                                                  \n",
            " block_8_depthwise_relu (Re  (None, 8, 8, 384)            0         ['block_8_depthwise_BN[0][0]']\n",
            " LU)                                                                                              \n",
            "                                                                                                  \n",
            " block_8_project (Conv2D)    (None, 8, 8, 64)             24576     ['block_8_depthwise_relu[0][0]\n",
            "                                                                    ']                            \n",
            "                                                                                                  \n",
            " block_8_project_BN (BatchN  (None, 8, 8, 64)             256       ['block_8_project[0][0]']     \n",
            " ormalization)                                                                                    \n",
            "                                                                                                  \n",
            " block_8_add (Add)           (None, 8, 8, 64)             0         ['block_7_add[0][0]',         \n",
            "                                                                     'block_8_project_BN[0][0]']  \n",
            "                                                                                                  \n",
            " block_9_expand (Conv2D)     (None, 8, 8, 384)            24576     ['block_8_add[0][0]']         \n",
            "                                                                                                  \n",
            " block_9_expand_BN (BatchNo  (None, 8, 8, 384)            1536      ['block_9_expand[0][0]']      \n",
            " rmalization)                                                                                     \n",
            "                                                                                                  \n",
            " block_9_expand_relu (ReLU)  (None, 8, 8, 384)            0         ['block_9_expand_BN[0][0]']   \n",
            "                                                                                                  \n",
            " block_9_depthwise (Depthwi  (None, 8, 8, 384)            3456      ['block_9_expand_relu[0][0]'] \n",
            " seConv2D)                                                                                        \n",
            "                                                                                                  \n",
            " block_9_depthwise_BN (Batc  (None, 8, 8, 384)            1536      ['block_9_depthwise[0][0]']   \n",
            " hNormalization)                                                                                  \n",
            "                                                                                                  \n",
            " block_9_depthwise_relu (Re  (None, 8, 8, 384)            0         ['block_9_depthwise_BN[0][0]']\n",
            " LU)                                                                                              \n",
            "                                                                                                  \n",
            " block_9_project (Conv2D)    (None, 8, 8, 64)             24576     ['block_9_depthwise_relu[0][0]\n",
            "                                                                    ']                            \n",
            "                                                                                                  \n",
            " block_9_project_BN (BatchN  (None, 8, 8, 64)             256       ['block_9_project[0][0]']     \n",
            " ormalization)                                                                                    \n",
            "                                                                                                  \n",
            " block_9_add (Add)           (None, 8, 8, 64)             0         ['block_8_add[0][0]',         \n",
            "                                                                     'block_9_project_BN[0][0]']  \n",
            "                                                                                                  \n",
            " block_10_expand (Conv2D)    (None, 8, 8, 384)            24576     ['block_9_add[0][0]']         \n",
            "                                                                                                  \n",
            " block_10_expand_BN (BatchN  (None, 8, 8, 384)            1536      ['block_10_expand[0][0]']     \n",
            " ormalization)                                                                                    \n",
            "                                                                                                  \n",
            " block_10_expand_relu (ReLU  (None, 8, 8, 384)            0         ['block_10_expand_BN[0][0]']  \n",
            " )                                                                                                \n",
            "                                                                                                  \n",
            " block_10_depthwise (Depthw  (None, 8, 8, 384)            3456      ['block_10_expand_relu[0][0]']\n",
            " iseConv2D)                                                                                       \n",
            "                                                                                                  \n",
            " block_10_depthwise_BN (Bat  (None, 8, 8, 384)            1536      ['block_10_depthwise[0][0]']  \n",
            " chNormalization)                                                                                 \n",
            "                                                                                                  \n",
            " block_10_depthwise_relu (R  (None, 8, 8, 384)            0         ['block_10_depthwise_BN[0][0]'\n",
            " eLU)                                                               ]                             \n",
            "                                                                                                  \n",
            " block_10_project (Conv2D)   (None, 8, 8, 96)             36864     ['block_10_depthwise_relu[0][0\n",
            "                                                                    ]']                           \n",
            "                                                                                                  \n",
            " block_10_project_BN (Batch  (None, 8, 8, 96)             384       ['block_10_project[0][0]']    \n",
            " Normalization)                                                                                   \n",
            "                                                                                                  \n",
            " block_11_expand (Conv2D)    (None, 8, 8, 576)            55296     ['block_10_project_BN[0][0]'] \n",
            "                                                                                                  \n",
            " block_11_expand_BN (BatchN  (None, 8, 8, 576)            2304      ['block_11_expand[0][0]']     \n",
            " ormalization)                                                                                    \n",
            "                                                                                                  \n",
            " block_11_expand_relu (ReLU  (None, 8, 8, 576)            0         ['block_11_expand_BN[0][0]']  \n",
            " )                                                                                                \n",
            "                                                                                                  \n",
            " block_11_depthwise (Depthw  (None, 8, 8, 576)            5184      ['block_11_expand_relu[0][0]']\n",
            " iseConv2D)                                                                                       \n",
            "                                                                                                  \n",
            " block_11_depthwise_BN (Bat  (None, 8, 8, 576)            2304      ['block_11_depthwise[0][0]']  \n",
            " chNormalization)                                                                                 \n",
            "                                                                                                  \n",
            " block_11_depthwise_relu (R  (None, 8, 8, 576)            0         ['block_11_depthwise_BN[0][0]'\n",
            " eLU)                                                               ]                             \n",
            "                                                                                                  \n",
            " block_11_project (Conv2D)   (None, 8, 8, 96)             55296     ['block_11_depthwise_relu[0][0\n",
            "                                                                    ]']                           \n",
            "                                                                                                  \n",
            " block_11_project_BN (Batch  (None, 8, 8, 96)             384       ['block_11_project[0][0]']    \n",
            " Normalization)                                                                                   \n",
            "                                                                                                  \n",
            " block_11_add (Add)          (None, 8, 8, 96)             0         ['block_10_project_BN[0][0]', \n",
            "                                                                     'block_11_project_BN[0][0]'] \n",
            "                                                                                                  \n",
            " block_12_expand (Conv2D)    (None, 8, 8, 576)            55296     ['block_11_add[0][0]']        \n",
            "                                                                                                  \n",
            " block_12_expand_BN (BatchN  (None, 8, 8, 576)            2304      ['block_12_expand[0][0]']     \n",
            " ormalization)                                                                                    \n",
            "                                                                                                  \n",
            " block_12_expand_relu (ReLU  (None, 8, 8, 576)            0         ['block_12_expand_BN[0][0]']  \n",
            " )                                                                                                \n",
            "                                                                                                  \n",
            " block_12_depthwise (Depthw  (None, 8, 8, 576)            5184      ['block_12_expand_relu[0][0]']\n",
            " iseConv2D)                                                                                       \n",
            "                                                                                                  \n",
            " block_12_depthwise_BN (Bat  (None, 8, 8, 576)            2304      ['block_12_depthwise[0][0]']  \n",
            " chNormalization)                                                                                 \n",
            "                                                                                                  \n",
            " block_12_depthwise_relu (R  (None, 8, 8, 576)            0         ['block_12_depthwise_BN[0][0]'\n",
            " eLU)                                                               ]                             \n",
            "                                                                                                  \n",
            " block_12_project (Conv2D)   (None, 8, 8, 96)             55296     ['block_12_depthwise_relu[0][0\n",
            "                                                                    ]']                           \n",
            "                                                                                                  \n",
            " block_12_project_BN (Batch  (None, 8, 8, 96)             384       ['block_12_project[0][0]']    \n",
            " Normalization)                                                                                   \n",
            "                                                                                                  \n",
            " block_12_add (Add)          (None, 8, 8, 96)             0         ['block_11_add[0][0]',        \n",
            "                                                                     'block_12_project_BN[0][0]'] \n",
            "                                                                                                  \n",
            " block_13_expand (Conv2D)    (None, 8, 8, 576)            55296     ['block_12_add[0][0]']        \n",
            "                                                                                                  \n",
            " block_13_expand_BN (BatchN  (None, 8, 8, 576)            2304      ['block_13_expand[0][0]']     \n",
            " ormalization)                                                                                    \n",
            "                                                                                                  \n",
            " block_13_expand_relu (ReLU  (None, 8, 8, 576)            0         ['block_13_expand_BN[0][0]']  \n",
            " )                                                                                                \n",
            "                                                                                                  \n",
            " block_13_pad (ZeroPadding2  (None, 9, 9, 576)            0         ['block_13_expand_relu[0][0]']\n",
            " D)                                                                                               \n",
            "                                                                                                  \n",
            " block_13_depthwise (Depthw  (None, 4, 4, 576)            5184      ['block_13_pad[0][0]']        \n",
            " iseConv2D)                                                                                       \n",
            "                                                                                                  \n",
            " block_13_depthwise_BN (Bat  (None, 4, 4, 576)            2304      ['block_13_depthwise[0][0]']  \n",
            " chNormalization)                                                                                 \n",
            "                                                                                                  \n",
            " block_13_depthwise_relu (R  (None, 4, 4, 576)            0         ['block_13_depthwise_BN[0][0]'\n",
            " eLU)                                                               ]                             \n",
            "                                                                                                  \n",
            " block_13_project (Conv2D)   (None, 4, 4, 160)            92160     ['block_13_depthwise_relu[0][0\n",
            "                                                                    ]']                           \n",
            "                                                                                                  \n",
            " block_13_project_BN (Batch  (None, 4, 4, 160)            640       ['block_13_project[0][0]']    \n",
            " Normalization)                                                                                   \n",
            "                                                                                                  \n",
            " block_14_expand (Conv2D)    (None, 4, 4, 960)            153600    ['block_13_project_BN[0][0]'] \n",
            "                                                                                                  \n",
            " block_14_expand_BN (BatchN  (None, 4, 4, 960)            3840      ['block_14_expand[0][0]']     \n",
            " ormalization)                                                                                    \n",
            "                                                                                                  \n",
            " block_14_expand_relu (ReLU  (None, 4, 4, 960)            0         ['block_14_expand_BN[0][0]']  \n",
            " )                                                                                                \n",
            "                                                                                                  \n",
            " block_14_depthwise (Depthw  (None, 4, 4, 960)            8640      ['block_14_expand_relu[0][0]']\n",
            " iseConv2D)                                                                                       \n",
            "                                                                                                  \n",
            " block_14_depthwise_BN (Bat  (None, 4, 4, 960)            3840      ['block_14_depthwise[0][0]']  \n",
            " chNormalization)                                                                                 \n",
            "                                                                                                  \n",
            " block_14_depthwise_relu (R  (None, 4, 4, 960)            0         ['block_14_depthwise_BN[0][0]'\n",
            " eLU)                                                               ]                             \n",
            "                                                                                                  \n",
            " block_14_project (Conv2D)   (None, 4, 4, 160)            153600    ['block_14_depthwise_relu[0][0\n",
            "                                                                    ]']                           \n",
            "                                                                                                  \n",
            " block_14_project_BN (Batch  (None, 4, 4, 160)            640       ['block_14_project[0][0]']    \n",
            " Normalization)                                                                                   \n",
            "                                                                                                  \n",
            " block_14_add (Add)          (None, 4, 4, 160)            0         ['block_13_project_BN[0][0]', \n",
            "                                                                     'block_14_project_BN[0][0]'] \n",
            "                                                                                                  \n",
            " block_15_expand (Conv2D)    (None, 4, 4, 960)            153600    ['block_14_add[0][0]']        \n",
            "                                                                                                  \n",
            " block_15_expand_BN (BatchN  (None, 4, 4, 960)            3840      ['block_15_expand[0][0]']     \n",
            " ormalization)                                                                                    \n",
            "                                                                                                  \n",
            " block_15_expand_relu (ReLU  (None, 4, 4, 960)            0         ['block_15_expand_BN[0][0]']  \n",
            " )                                                                                                \n",
            "                                                                                                  \n",
            " block_15_depthwise (Depthw  (None, 4, 4, 960)            8640      ['block_15_expand_relu[0][0]']\n",
            " iseConv2D)                                                                                       \n",
            "                                                                                                  \n",
            " block_15_depthwise_BN (Bat  (None, 4, 4, 960)            3840      ['block_15_depthwise[0][0]']  \n",
            " chNormalization)                                                                                 \n",
            "                                                                                                  \n",
            " block_15_depthwise_relu (R  (None, 4, 4, 960)            0         ['block_15_depthwise_BN[0][0]'\n",
            " eLU)                                                               ]                             \n",
            "                                                                                                  \n",
            " block_15_project (Conv2D)   (None, 4, 4, 160)            153600    ['block_15_depthwise_relu[0][0\n",
            "                                                                    ]']                           \n",
            "                                                                                                  \n",
            " block_15_project_BN (Batch  (None, 4, 4, 160)            640       ['block_15_project[0][0]']    \n",
            " Normalization)                                                                                   \n",
            "                                                                                                  \n",
            " block_15_add (Add)          (None, 4, 4, 160)            0         ['block_14_add[0][0]',        \n",
            "                                                                     'block_15_project_BN[0][0]'] \n",
            "                                                                                                  \n",
            " block_16_expand (Conv2D)    (None, 4, 4, 960)            153600    ['block_15_add[0][0]']        \n",
            "                                                                                                  \n",
            " block_16_expand_BN (BatchN  (None, 4, 4, 960)            3840      ['block_16_expand[0][0]']     \n",
            " ormalization)                                                                                    \n",
            "                                                                                                  \n",
            " block_16_expand_relu (ReLU  (None, 4, 4, 960)            0         ['block_16_expand_BN[0][0]']  \n",
            " )                                                                                                \n",
            "                                                                                                  \n",
            " block_16_depthwise (Depthw  (None, 4, 4, 960)            8640      ['block_16_expand_relu[0][0]']\n",
            " iseConv2D)                                                                                       \n",
            "                                                                                                  \n",
            " block_16_depthwise_BN (Bat  (None, 4, 4, 960)            3840      ['block_16_depthwise[0][0]']  \n",
            " chNormalization)                                                                                 \n",
            "                                                                                                  \n",
            " block_16_depthwise_relu (R  (None, 4, 4, 960)            0         ['block_16_depthwise_BN[0][0]'\n",
            " eLU)                                                               ]                             \n",
            "                                                                                                  \n",
            " block_16_project (Conv2D)   (None, 4, 4, 320)            307200    ['block_16_depthwise_relu[0][0\n",
            "                                                                    ]']                           \n",
            "                                                                                                  \n",
            " block_16_project_BN (Batch  (None, 4, 4, 320)            1280      ['block_16_project[0][0]']    \n",
            " Normalization)                                                                                   \n",
            "                                                                                                  \n",
            " Conv_1 (Conv2D)             (None, 4, 4, 1280)           409600    ['block_16_project_BN[0][0]'] \n",
            "                                                                                                  \n",
            " Conv_1_bn (BatchNormalizat  (None, 4, 4, 1280)           5120      ['Conv_1[0][0]']              \n",
            " ion)                                                                                             \n",
            "                                                                                                  \n",
            " out_relu (ReLU)             (None, 4, 4, 1280)           0         ['Conv_1_bn[0][0]']           \n",
            "                                                                                                  \n",
            " global_average_pooling2d (  (None, 1280)                 0         ['out_relu[0][0]']            \n",
            " GlobalAveragePooling2D)                                                                          \n",
            "                                                                                                  \n",
            " dense (Dense)               (None, 1)                    1281      ['global_average_pooling2d[0][\n",
            "                                                                    0]']                          \n",
            "                                                                                                  \n",
            "==================================================================================================\n",
            "Total params: 2259265 (8.62 MB)\n",
            "Trainable params: 1281 (5.00 KB)\n",
            "Non-trainable params: 2257984 (8.61 MB)\n",
            "__________________________________________________________________________________________________\n"
          ]
        }
      ]
    },
    {
      "cell_type": "code",
      "source": [
        "from tensorflow.keras.callbacks import Callback, ModelCheckpoint, LearningRateScheduler, TensorBoard, EarlyStopping, ReduceLROnPlateau\n",
        "\n",
        "#Fine tune the learning rates and batch size\n",
        "patience = 3\n",
        "\n",
        "start_lr = 0.00001\n",
        "min_lr = 0.00001\n",
        "max_lr = 0.00005\n",
        "\n",
        "batch_size = 4\n",
        "\n",
        "if TPU_INIT:\n",
        "    max_lr = max_lr * tpu_strategy.num_replicas_in_sync\n",
        "    batch_size = batch_size * tpu_strategy.num_replicas_in_sync\n",
        "\n",
        "rampup_epochs = 5\n",
        "sustain_epochs = 0\n",
        "exp_decay = .8\n",
        "\n",
        "def lrfn(epoch):\n",
        "    if epoch < rampup_epochs:\n",
        "        return (max_lr - start_lr)/rampup_epochs * epoch + start_lr\n",
        "    elif epoch < rampup_epochs + sustain_epochs:\n",
        "        return max_lr\n",
        "    else:\n",
        "        return (max_lr - min_lr) * exp_decay**(epoch-rampup_epochs-sustain_epochs) + min_lr\n",
        "\n",
        "\n",
        "class myCallback(Callback):\n",
        "    def on_epoch_end(self, epoch, logs={}):\n",
        "        if ((logs.get('accuracy')>=0.999)):\n",
        "            print(\"\\nLimits Reached cancelling training!\")\n",
        "            self.model.stop_training = True"
      ],
      "metadata": {
        "id": "Ot4-s-9rLwF4",
        "execution": {
          "iopub.status.busy": "2021-06-28T21:19:22.162673Z",
          "iopub.execute_input": "2021-06-28T21:19:22.163129Z",
          "iopub.status.idle": "2021-06-28T21:19:22.176337Z",
          "shell.execute_reply.started": "2021-06-28T21:19:22.163083Z",
          "shell.execute_reply": "2021-06-28T21:19:22.175519Z"
        },
        "trusted": true
      },
      "execution_count": null,
      "outputs": []
    },
    {
      "cell_type": "code",
      "source": [
        "end_callback = myCallback()\n",
        "\n",
        "lr_callback = LearningRateScheduler(lambda epoch: lrfn(epoch), verbose=False)\n",
        "\n",
        "early_stopping = EarlyStopping(patience = patience, monitor='val_loss',\n",
        "                                 mode='min', restore_best_weights=True,\n",
        "                                 verbose = 1, min_delta = .00075)\n",
        "\n",
        "PROJECT_DIR = MyDrive + '/RiskDetection'\n",
        "\n",
        "lr_plat = ReduceLROnPlateau(patience = 2, mode = 'min')\n",
        "\n",
        "os.system('rm -rf ./logs/')\n",
        "\n",
        "import datetime\n",
        "log_dir=\"logs/fit/\" + datetime.datetime.now().strftime(\"%Y%m%d-%H%M%S\")\n",
        "tensorboard_callback = TensorBoard(log_dir = log_dir, write_graph=True, histogram_freq=1)\n",
        "\n",
        "checkpoint_filepath = 'ModelWeights.h5'\n",
        "\n",
        "model_checkpoints = ModelCheckpoint(filepath=checkpoint_filepath,\n",
        "                                        save_weights_only=True,\n",
        "                                        monitor='val_loss',\n",
        "                                        mode='min',\n",
        "                                        verbose = 1,\n",
        "                                        save_best_only=True)\n",
        "\n",
        "\n",
        "callbacks = [end_callback, lr_callback, model_checkpoints, tensorboard_callback, early_stopping, lr_plat]\n",
        "\n",
        "if TPU_INIT:\n",
        "    callbacks = [end_callback, lr_callback, model_checkpoints, early_stopping, lr_plat]"
      ],
      "metadata": {
        "execution": {
          "iopub.status.busy": "2021-06-28T21:19:28.031227Z",
          "iopub.execute_input": "2021-06-28T21:19:28.031571Z",
          "iopub.status.idle": "2021-06-28T21:19:28.388810Z",
          "shell.execute_reply.started": "2021-06-28T21:19:28.031539Z",
          "shell.execute_reply": "2021-06-28T21:19:28.387749Z"
        },
        "trusted": true,
        "id": "I5ETkw3Z8Qwh"
      },
      "execution_count": null,
      "outputs": []
    },
    {
      "cell_type": "code",
      "source": [
        "#Training of the model\n",
        "history = model.fit(X_train_nn ,y_train, epochs=epochs,\n",
        "                        callbacks=callbacks,\n",
        "                        validation_data = (X_test_nn, y_test),\n",
        "                        batch_size=batch_size)\n",
        "\n",
        "model.load_weights(checkpoint_filepath)"
      ],
      "metadata": {
        "id": "MDFpuPolFYRc",
        "outputId": "afb9f160-3ded-404d-d4ab-a9f5d01312f2",
        "_kg_hide-output": false,
        "execution": {
          "iopub.status.busy": "2021-06-28T21:19:34.187954Z",
          "iopub.execute_input": "2021-06-28T21:19:34.188325Z",
          "iopub.status.idle": "2021-06-28T21:40:04.073914Z",
          "shell.execute_reply.started": "2021-06-28T21:19:34.188280Z",
          "shell.execute_reply": "2021-06-28T21:40:04.073018Z"
        },
        "trusted": true,
        "colab": {
          "base_uri": "https://localhost:8080/"
        }
      },
      "execution_count": null,
      "outputs": [
        {
          "output_type": "stream",
          "name": "stdout",
          "text": [
            "Epoch 1/15\n",
            "7320/7322 [============================>.] - ETA: 0s - loss: 0.6535 - accuracy: 0.6472\n",
            "Epoch 1: val_loss improved from inf to 0.53171, saving model to ModelWeights.h5\n",
            "7322/7322 [==============================] - 227s 31ms/step - loss: 0.6534 - accuracy: 0.6473 - val_loss: 0.5317 - val_accuracy: 0.7401 - lr: 1.0000e-05\n",
            "Epoch 2/15\n",
            "7322/7322 [==============================] - ETA: 0s - loss: 0.4596 - accuracy: 0.7822\n",
            "Epoch 2: val_loss improved from 0.53171 to 0.41134, saving model to ModelWeights.h5\n",
            "7322/7322 [==============================] - 216s 29ms/step - loss: 0.4596 - accuracy: 0.7822 - val_loss: 0.4113 - val_accuracy: 0.8084 - lr: 1.8000e-05\n",
            "Epoch 3/15\n",
            "7320/7322 [============================>.] - ETA: 0s - loss: 0.3803 - accuracy: 0.8298\n",
            "Epoch 3: val_loss improved from 0.41134 to 0.35890, saving model to ModelWeights.h5\n",
            "7322/7322 [==============================] - 214s 29ms/step - loss: 0.3803 - accuracy: 0.8298 - val_loss: 0.3589 - val_accuracy: 0.8419 - lr: 2.6000e-05\n",
            "Epoch 4/15\n",
            "7322/7322 [==============================] - ETA: 0s - loss: 0.3386 - accuracy: 0.8511\n",
            "Epoch 4: val_loss improved from 0.35890 to 0.32767, saving model to ModelWeights.h5\n",
            "7322/7322 [==============================] - 216s 30ms/step - loss: 0.3386 - accuracy: 0.8511 - val_loss: 0.3277 - val_accuracy: 0.8587 - lr: 3.4000e-05\n",
            "Epoch 5/15\n",
            "7321/7322 [============================>.] - ETA: 0s - loss: 0.3109 - accuracy: 0.8673\n",
            "Epoch 5: val_loss improved from 0.32767 to 0.30633, saving model to ModelWeights.h5\n",
            "7322/7322 [==============================] - 216s 29ms/step - loss: 0.3109 - accuracy: 0.8673 - val_loss: 0.3063 - val_accuracy: 0.8706 - lr: 4.2000e-05\n",
            "Epoch 6/15\n",
            "7320/7322 [============================>.] - ETA: 0s - loss: 0.2908 - accuracy: 0.8785\n",
            "Epoch 6: val_loss improved from 0.30633 to 0.29027, saving model to ModelWeights.h5\n",
            "7322/7322 [==============================] - 216s 29ms/step - loss: 0.2908 - accuracy: 0.8785 - val_loss: 0.2903 - val_accuracy: 0.8780 - lr: 5.0000e-05\n",
            "Epoch 7/15\n",
            "7320/7322 [============================>.] - ETA: 0s - loss: 0.2758 - accuracy: 0.8866\n",
            "Epoch 7: val_loss improved from 0.29027 to 0.28175, saving model to ModelWeights.h5\n",
            "7322/7322 [==============================] - 216s 29ms/step - loss: 0.2758 - accuracy: 0.8867 - val_loss: 0.2818 - val_accuracy: 0.8826 - lr: 4.2000e-05\n",
            "Epoch 8/15\n",
            "7320/7322 [============================>.] - ETA: 0s - loss: 0.2663 - accuracy: 0.8912\n",
            "Epoch 8: val_loss improved from 0.28175 to 0.27517, saving model to ModelWeights.h5\n",
            "7322/7322 [==============================] - 214s 29ms/step - loss: 0.2663 - accuracy: 0.8912 - val_loss: 0.2752 - val_accuracy: 0.8856 - lr: 3.5600e-05\n",
            "Epoch 9/15\n",
            "7321/7322 [============================>.] - ETA: 0s - loss: 0.2598 - accuracy: 0.8947\n",
            "Epoch 9: val_loss improved from 0.27517 to 0.27069, saving model to ModelWeights.h5\n",
            "7322/7322 [==============================] - 215s 29ms/step - loss: 0.2598 - accuracy: 0.8947 - val_loss: 0.2707 - val_accuracy: 0.8879 - lr: 3.0480e-05\n",
            "Epoch 10/15\n",
            "7322/7322 [==============================] - ETA: 0s - loss: 0.2548 - accuracy: 0.8976\n",
            "Epoch 10: val_loss improved from 0.27069 to 0.26840, saving model to ModelWeights.h5\n",
            "7322/7322 [==============================] - 216s 29ms/step - loss: 0.2548 - accuracy: 0.8976 - val_loss: 0.2684 - val_accuracy: 0.8874 - lr: 2.6384e-05\n",
            "Epoch 11/15\n",
            "7321/7322 [============================>.] - ETA: 0s - loss: 0.2508 - accuracy: 0.8994\n",
            "Epoch 11: val_loss improved from 0.26840 to 0.26506, saving model to ModelWeights.h5\n",
            "7322/7322 [==============================] - 218s 30ms/step - loss: 0.2508 - accuracy: 0.8994 - val_loss: 0.2651 - val_accuracy: 0.8905 - lr: 2.3107e-05\n",
            "Epoch 12/15\n",
            "7320/7322 [============================>.] - ETA: 0s - loss: 0.2476 - accuracy: 0.9001\n",
            "Epoch 12: val_loss improved from 0.26506 to 0.26329, saving model to ModelWeights.h5\n",
            "7322/7322 [==============================] - 216s 30ms/step - loss: 0.2477 - accuracy: 0.9001 - val_loss: 0.2633 - val_accuracy: 0.8898 - lr: 2.0486e-05\n",
            "Epoch 13/15\n",
            "7322/7322 [==============================] - ETA: 0s - loss: 0.2451 - accuracy: 0.9018\n",
            "Epoch 13: val_loss improved from 0.26329 to 0.26126, saving model to ModelWeights.h5\n",
            "7322/7322 [==============================] - 215s 29ms/step - loss: 0.2451 - accuracy: 0.9018 - val_loss: 0.2613 - val_accuracy: 0.8911 - lr: 1.8389e-05\n",
            "Epoch 14/15\n",
            "7320/7322 [============================>.] - ETA: 0s - loss: 0.2430 - accuracy: 0.9024\n",
            "Epoch 14: val_loss improved from 0.26126 to 0.25980, saving model to ModelWeights.h5\n",
            "7322/7322 [==============================] - 216s 29ms/step - loss: 0.2430 - accuracy: 0.9024 - val_loss: 0.2598 - val_accuracy: 0.8921 - lr: 1.6711e-05\n",
            "Epoch 15/15\n",
            "7321/7322 [============================>.] - ETA: 0s - loss: 0.2411 - accuracy: 0.9041\n",
            "Epoch 15: val_loss improved from 0.25980 to 0.25916, saving model to ModelWeights.h5\n",
            "7322/7322 [==============================] - 214s 29ms/step - loss: 0.2411 - accuracy: 0.9041 - val_loss: 0.2592 - val_accuracy: 0.8914 - lr: 1.5369e-05\n"
          ]
        }
      ]
    },
    {
      "cell_type": "code",
      "source": [
        "%matplotlib inline\n",
        "\n",
        "# Graphs and summary for evaluate the model performance\n",
        "\n",
        "def print_graph(item, index, history):\n",
        "    plt.figure()\n",
        "    train_values = history.history[item][0:index]\n",
        "    plt.plot(train_values)\n",
        "    test_values = history.history['val_' + item][0:index]\n",
        "    plt.plot(test_values)\n",
        "    plt.legend(['training','validation'])\n",
        "    plt.title('Training and validation '+ item)\n",
        "    plt.xlabel('epoch')\n",
        "    plt.show()\n",
        "    plot = '{}.png'.format(item)\n",
        "    plt.savefig(plot)\n",
        "\n",
        "\n",
        "def get_best_epoch(test_loss, history):\n",
        "    for key, item in enumerate(history.history.items()):\n",
        "        (name, arr) = item\n",
        "        if name == 'val_loss':\n",
        "            for i in range(len(arr)):\n",
        "                if round(test_loss, 2) == round(arr[i], 2):\n",
        "                    return i\n",
        "\n",
        "def model_summary(model, history):\n",
        "    print('---'*30)\n",
        "    test_loss, test_accuracy = model.evaluate(X_test_nn, y_test, verbose=0)\n",
        "\n",
        "    if history:\n",
        "        index = get_best_epoch(test_loss, history)\n",
        "        print('Best Epochs: ', index)\n",
        "\n",
        "        train_accuracy = history.history['accuracy'][index]\n",
        "        train_loss = history.history['loss'][index]\n",
        "\n",
        "        print('Accuracy on train:',train_accuracy,'\\tLoss on train:',train_loss)\n",
        "        print('Accuracy on test:',test_accuracy,'\\tLoss on test:',test_loss)\n",
        "        print_graph('loss', index, history)\n",
        "        print_graph('accuracy', index, history)\n",
        "        print('---'*30)"
      ],
      "metadata": {
        "execution": {
          "iopub.status.busy": "2021-06-28T21:41:11.914488Z",
          "iopub.execute_input": "2021-06-28T21:41:11.914827Z",
          "iopub.status.idle": "2021-06-28T21:41:11.933416Z",
          "shell.execute_reply.started": "2021-06-28T21:41:11.914793Z",
          "shell.execute_reply": "2021-06-28T21:41:11.932620Z"
        },
        "trusted": true,
        "id": "Jt9JghI88Qwi"
      },
      "execution_count": null,
      "outputs": []
    },
    {
      "cell_type": "code",
      "source": [
        "model_summary(model, history)"
      ],
      "metadata": {
        "execution": {
          "iopub.status.busy": "2021-06-28T21:41:15.265489Z",
          "iopub.execute_input": "2021-06-28T21:41:15.265817Z",
          "iopub.status.idle": "2021-06-28T21:41:18.543465Z",
          "shell.execute_reply.started": "2021-06-28T21:41:15.265788Z",
          "shell.execute_reply": "2021-06-28T21:41:18.542383Z"
        },
        "trusted": true,
        "colab": {
          "base_uri": "https://localhost:8080/",
          "height": 1000
        },
        "id": "pua_J3j08Qwi",
        "outputId": "bfd18ec1-760f-47f1-ee91-6e96ae430ce0"
      },
      "execution_count": null,
      "outputs": [
        {
          "output_type": "stream",
          "name": "stdout",
          "text": [
            "------------------------------------------------------------------------------------------\n",
            "Best Epochs:  11\n",
            "Accuracy on train: 0.9000512361526489 \tLoss on train: 0.24766379594802856\n",
            "Accuracy on test: 0.8914117217063904 \tLoss on test: 0.2591586112976074\n"
          ]
        },
        {
          "output_type": "display_data",
          "data": {
            "text/plain": [
              "<Figure size 640x480 with 1 Axes>"
            ],
            "image/png": "[encoded data removed]"
          },
          "metadata": {}
        },
        {
          "output_type": "display_data",
          "data": {
            "text/plain": [
              "<Figure size 640x480 with 0 Axes>"
            ]
          },
          "metadata": {}
        },
        {
          "output_type": "display_data",
          "data": {
            "text/plain": [
              "<Figure size 640x480 with 1 Axes>"
            ],
            "image/png": "[encoded data removed]"
          },
          "metadata": {}
        },
        {
          "output_type": "stream",
          "name": "stdout",
          "text": [
            "------------------------------------------------------------------------------------------\n"
          ]
        },
        {
          "output_type": "display_data",
          "data": {
            "text/plain": [
              "<Figure size 640x480 with 0 Axes>"
            ]
          },
          "metadata": {}
        }
      ]
    },
    {
      "cell_type": "markdown",
      "source": [
        "## **Evaluation on test set**"
      ],
      "metadata": {
        "id": "HnGdQeps8Qwi"
      }
    },
    {
      "cell_type": "code",
      "source": [
        "# evaluate the network with a Threshold of 0.5\n",
        "print(\"Evaluating network...\")\n",
        "predictions = model.predict(X_test_nn)\n",
        "preds = predictions > 0.5"
      ],
      "metadata": {
        "id": "RDJb2EZDtwH2",
        "outputId": "8c103a1a-8907-4f5b-9293-6464a17f3526",
        "execution": {
          "iopub.status.busy": "2021-06-28T21:41:25.755863Z",
          "iopub.execute_input": "2021-06-28T21:41:25.756227Z",
          "iopub.status.idle": "2021-06-28T21:41:28.541319Z",
          "shell.execute_reply.started": "2021-06-28T21:41:25.756189Z",
          "shell.execute_reply": "2021-06-28T21:41:28.540479Z"
        },
        "trusted": true,
        "colab": {
          "base_uri": "https://localhost:8080/"
        }
      },
      "execution_count": null,
      "outputs": [
        {
          "output_type": "stream",
          "name": "stdout",
          "text": [
            "Evaluating network...\n",
            "393/393 [==============================] - 27s 67ms/step\n"
          ]
        }
      ]
    },
    {
      "cell_type": "code",
      "source": [
        "import seaborn as sns\n",
        "from sklearn import metrics\n",
        "from sklearn.metrics import roc_curve, roc_auc_score, RocCurveDisplay, accuracy_score, classification_report, confusion_matrix\n",
        "corr_pred = metrics.confusion_matrix(y_test, preds)\n",
        "\n",
        "n_correct = np.int32((corr_pred[0][0] + corr_pred[1][1]))\n",
        "print('> Correct Predictions:', n_correct)\n",
        "n_wrongs = np.int32((corr_pred[0][1] + (corr_pred[1][0])))\n",
        "print('> Wrong Predictions:', n_wrongs)\n",
        "\n",
        "sns.heatmap(corr_pred,annot=True, fmt=\"d\",cmap=\"Blues\")\n",
        "plt.show()\n",
        "\n",
        "print(metrics.classification_report(y_test, preds,\n",
        "                           target_names=[\"NonViolence\", \"Violence\"]))"
      ],
      "metadata": {
        "execution": {
          "iopub.status.busy": "2021-06-28T21:41:29.601622Z",
          "iopub.execute_input": "2021-06-28T21:41:29.601949Z",
          "iopub.status.idle": "2021-06-28T21:41:29.957269Z",
          "shell.execute_reply.started": "2021-06-28T21:41:29.601912Z",
          "shell.execute_reply": "2021-06-28T21:41:29.956236Z"
        },
        "trusted": true,
        "colab": {
          "base_uri": "https://localhost:8080/",
          "height": 627
        },
        "id": "cmwh9eto8Qwj",
        "outputId": "eca4f22a-a9f0-4597-b8ea-f9a9cdf44f2e"
      },
      "execution_count": null,
      "outputs": [
        {
          "output_type": "stream",
          "name": "stdout",
          "text": [
            "> Correct Predictions: 11189\n",
            "> Wrong Predictions: 1363\n"
          ]
        },
        {
          "output_type": "display_data",
          "data": {
            "text/plain": [
              "<Figure size 640x480 with 2 Axes>"
            ],
            "image/png": "[encoded data removed]"
          },
          "metadata": {}
        },
        {
          "output_type": "stream",
          "name": "stdout",
          "text": [
            "              precision    recall  f1-score   support\n",
            "\n",
            " NonViolence       0.89      0.86      0.88      5570\n",
            "    Violence       0.89      0.92      0.90      6982\n",
            "\n",
            "    accuracy                           0.89     12552\n",
            "   macro avg       0.89      0.89      0.89     12552\n",
            "weighted avg       0.89      0.89      0.89     12552\n",
            "\n"
          ]
        }
      ]
    },
    {
      "cell_type": "code",
      "source": [
        " from keras import models\n",
        " # Save model\n",
        " args_model = \"model.h5\"\n",
        " model.save(args_model)\n",
        " model = models.load_model('model.h5')"
      ],
      "metadata": {
        "id": "QC4GtxqMtt81",
        "execution": {
          "iopub.status.busy": "2021-06-27T12:26:57.761213Z",
          "iopub.execute_input": "2021-06-27T12:26:57.76156Z",
          "iopub.status.idle": "2021-06-27T12:26:58.023373Z",
          "shell.execute_reply.started": "2021-06-27T12:26:57.761526Z",
          "shell.execute_reply": "2021-06-27T12:26:58.02252Z"
        },
        "trusted": true,
        "colab": {
          "base_uri": "https://localhost:8080/"
        },
        "outputId": "0784fc4e-b954-4143-f52b-34e76bba97cb"
      },
      "execution_count": null,
      "outputs": [
        {
          "output_type": "stream",
          "name": "stderr",
          "text": [
            "/usr/local/lib/python3.10/dist-packages/keras/src/engine/training.py:3103: UserWarning: You are saving your model as an HDF5 file via `model.save()`. This file format is considered legacy. We recommend using instead the native Keras format, e.g. `model.save('my_model.keras')`.\n",
            "  saving_api.save_model(\n"
          ]
        }
      ]
    },
    {
      "cell_type": "markdown",
      "source": [
        "## Visual test of the accuracy of the model"
      ],
      "metadata": {
        "id": "kUqg7pi7HsTk"
      }
    },
    {
      "cell_type": "code",
      "source": [
        "# Extract video frame and save image\n",
        "from PIL import Image\n",
        "image_file = video_to_frames('/content/drive/MyDrive/Computer-vision/real-life-violence-situations/Real-Life-Violence-Dataset/Violence/V_30.mp4')[0]\n",
        "im = Image.fromarray(image_file)\n",
        "im.save(\"inference.jpeg\")\n",
        "\n",
        "image_file"
      ],
      "metadata": {
        "colab": {
          "base_uri": "https://localhost:8080/",
          "height": 169
        },
        "id": "Rn6gLvRb6nQP",
        "outputId": "d89d3a6f-39ee-47d8-daa6-e6032a635d8d"
      },
      "execution_count": null,
      "outputs": [
        {
          "output_type": "execute_result",
          "data": {
            "text/plain": [
              "array([[[0, 0, 0],\n",
              "        [0, 0, 0],\n",
              "        [0, 0, 0],\n",
              "        ...,\n",
              "        [0, 0, 0],\n",
              "        [0, 0, 0],\n",
              "        [0, 0, 0]],\n",
              "\n",
              "       [[0, 0, 0],\n",
              "        [0, 0, 0],\n",
              "        [0, 0, 0],\n",
              "        ...,\n",
              "        [0, 0, 0],\n",
              "        [0, 0, 0],\n",
              "        [0, 0, 0]],\n",
              "\n",
              "       [[0, 0, 0],\n",
              "        [0, 0, 0],\n",
              "        [0, 0, 0],\n",
              "        ...,\n",
              "        [0, 0, 0],\n",
              "        [0, 0, 0],\n",
              "        [0, 0, 0]],\n",
              "\n",
              "       ...,\n",
              "\n",
              "       [[0, 0, 0],\n",
              "        [0, 0, 0],\n",
              "        [0, 0, 0],\n",
              "        ...,\n",
              "        [0, 0, 0],\n",
              "        [0, 0, 0],\n",
              "        [0, 0, 0]],\n",
              "\n",
              "       [[0, 0, 0],\n",
              "        [0, 0, 0],\n",
              "        [0, 0, 0],\n",
              "        ...,\n",
              "        [0, 0, 0],\n",
              "        [0, 0, 0],\n",
              "        [0, 0, 0]],\n",
              "\n",
              "       [[0, 0, 0],\n",
              "        [0, 0, 0],\n",
              "        [0, 0, 0],\n",
              "        ...,\n",
              "        [0, 0, 0],\n",
              "        [0, 0, 0],\n",
              "        [0, 0, 0]]], dtype=uint8)"
            ],
            "text/html": [
              "<style>\n",
              "      .ndarray_repr .ndarray_raw_data {\n",
              "        display: none;\n",
              "      }\n",
              "      .ndarray_repr.show_array .ndarray_raw_data {\n",
              "        display: block;\n",
              "      }\n",
              "      .ndarray_repr.show_array .ndarray_image_preview {\n",
              "        display: none;\n",
              "      }\n",
              "      </style>\n",
              "      <div id=\"id-45e028c6-ff28-4d59-be75-f6c06423d429\" class=\"ndarray_repr\"><pre>ndarray (128, 128, 3) <button style=\"padding: 0 2px;\">show data</button></pre><img src=\"data:image/png;base64,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\" class=\"ndarray_image_preview\" /><pre class=\"ndarray_raw_data\">array([[[0, 0, 0],\n",
              "        [0, 0, 0],\n",
              "        [0, 0, 0],\n",
              "        ...,\n",
              "        [0, 0, 0],\n",
              "        [0, 0, 0],\n",
              "        [0, 0, 0]],\n",
              "\n",
              "       [[0, 0, 0],\n",
              "        [0, 0, 0],\n",
              "        [0, 0, 0],\n",
              "        ...,\n",
              "        [0, 0, 0],\n",
              "        [0, 0, 0],\n",
              "        [0, 0, 0]],\n",
              "\n",
              "       [[0, 0, 0],\n",
              "        [0, 0, 0],\n",
              "        [0, 0, 0],\n",
              "        ...,\n",
              "        [0, 0, 0],\n",
              "        [0, 0, 0],\n",
              "        [0, 0, 0]],\n",
              "\n",
              "       ...,\n",
              "\n",
              "       [[0, 0, 0],\n",
              "        [0, 0, 0],\n",
              "        [0, 0, 0],\n",
              "        ...,\n",
              "        [0, 0, 0],\n",
              "        [0, 0, 0],\n",
              "        [0, 0, 0]],\n",
              "\n",
              "       [[0, 0, 0],\n",
              "        [0, 0, 0],\n",
              "        [0, 0, 0],\n",
              "        ...,\n",
              "        [0, 0, 0],\n",
              "        [0, 0, 0],\n",
              "        [0, 0, 0]],\n",
              "\n",
              "       [[0, 0, 0],\n",
              "        [0, 0, 0],\n",
              "        [0, 0, 0],\n",
              "        ...,\n",
              "        [0, 0, 0],\n",
              "        [0, 0, 0],\n",
              "        [0, 0, 0]]], dtype=uint8)</pre></div><script>\n",
              "      (() => {\n",
              "      const titles = ['show data', 'hide data'];\n",
              "      let index = 0\n",
              "      document.querySelector('#id-45e028c6-ff28-4d59-be75-f6c06423d429 button').onclick = (e) => {\n",
              "        document.querySelector('#id-45e028c6-ff28-4d59-be75-f6c06423d429').classList.toggle('show_array');\n",
              "        index = (++index) % 2;\n",
              "        document.querySelector('#id-45e028c6-ff28-4d59-be75-f6c06423d429 button').textContent = titles[index];\n",
              "        e.preventDefault();\n",
              "        e.stopPropagation();\n",
              "      }\n",
              "      })();\n",
              "    </script>"
            ]
          },
          "metadata": {},
          "execution_count": 21
        }
      ]
    },
    {
      "cell_type": "code",
      "source": [
        "# Use the image just obtained and generate a prediction classifing ig it's Violence or not, with a Threshold of 0.5\n",
        "import numpy as np\n",
        "from keras.preprocessing import image\n",
        "\n",
        "img_width, img_height = 128, 128\n",
        "img = image.load_img(\"inference.jpeg\", target_size = (img_width, img_height))\n",
        "img = image.img_to_array(img)\n",
        "img = np.expand_dims(img, axis = 0)\n",
        "\n",
        "if model.predict(img) > 0.5:\n",
        "  print(model.predict(img), \" Violence\")\n",
        "else:\n",
        "  print(model.predict(img), \" NonViolence\")"
      ],
      "metadata": {
        "colab": {
          "base_uri": "https://localhost:8080/"
        },
        "id": "frIHXHM4872e",
        "outputId": "77d0bc9c-15cf-423a-c1a3-aa272c5276ef"
      },
      "execution_count": null,
      "outputs": [
        {
          "output_type": "stream",
          "name": "stdout",
          "text": [
            "1/1 [==============================] - 1s 753ms/step\n",
            "1/1 [==============================] - 0s 34ms/step\n",
            "[[0.17500217]]  NonViolence\n"
          ]
        }
      ]
    }
  ]
}