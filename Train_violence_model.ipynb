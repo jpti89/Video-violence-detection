{
  "metadata": {
    "kernelspec": {
      "display_name": "Python 3",
      "name": "python3"
    },
    "language_info": {
      "name": "python",
      "version": "3.7.10",
      "mimetype": "text/x-python",
      "codemirror_mode": {
        "name": "ipython",
        "version": 3
      },
      "pygments_lexer": "ipython3",
      "nbconvert_exporter": "python",
      "file_extension": ".py"
    },
    "colab": {
      "provenance": [],
      "gpuType": "V28",
      "include_colab_link": true
    },
    "accelerator": "TPU"
  },
  "nbformat_minor": 0,
  "nbformat": 4,
  "cells": [
    {
      "cell_type": "markdown",
      "metadata": {
        "id": "view-in-github",
        "colab_type": "text"
      },
      "source": [
        "<a href=\"https://colab.research.google.com/github/jpti89/Video-violence-detection/blob/main/Train_violence_model.ipynb\" target=\"_parent\"><img src=\"https://colab.research.google.com/assets/colab-badge.svg\" alt=\"Open In Colab\"/></a>"
      ]
    },
    {
      "cell_type": "markdown",
      "source": [
        "# Training Violence detection model using Tensorflow Keras + MobileNetV2 model\n",
        "\n",
        "Using the dataset from Kaggle https://www.kaggle.com/datasets/mohamedmustafa/real-life-violence-situations-dataset we managed to fine-tune and train a CNN model.\n",
        "\n",
        "The architecture of the Full project is:\n",
        "- Download the Dataset from Google Drive\n",
        "- Extract image frames of every video standarizing every image at 128x128 px\n",
        "- Separating the images in train and test sets\n",
        "- Load the MobileNetV2\n",
        "- Finetune the learning rates, epochs and batch size to get the best results\n",
        "- Train the model\n",
        "- Save weights and model\n",
        "- Evaluate\n",
        "\n",
        "\n",
        "The labels of each frame are mantained for the whole video. That means, if there's violence only in some frames of the video, the network learns from the whole video anyway. This could generate a problem with some incorrect predictions using videos from outside the traning dataset.\n",
        "\n",
        "MobileNetV2 was choosen because it's lightweight, fast and easy to train model, accurate for our CNN clasification use case."
      ],
      "metadata": {
        "id": "lM34THSfAHyb"
      }
    },
    {
      "cell_type": "markdown",
      "source": [
        "## Setup of the project"
      ],
      "metadata": {
        "id": "russzt8OFxy4"
      }
    },
    {
      "cell_type": "code",
      "source": [
        "# Create paths if not exist\n",
        "import os\n",
        "import platform\n",
        "from IPython.display import clear_output\n",
        "print(platform.platform())\n",
        "\n",
        "def resolve_dir(Dir):\n",
        "    if not os.path.exists(Dir):\n",
        "        os.mkdir(Dir)\n",
        "\n",
        "def reset_path(Dir):\n",
        "    if not os.path.exists(Dir):\n",
        "        os.mkdir(Dir)\n",
        "    else:\n",
        "        os.system('rm -f {}/*'.format( Dir))"
      ],
      "metadata": {
        "id": "YMm4qVv5qtGE",
        "outputId": "ed037ef2-8af9-429c-8aca-63176543cfc4",
        "execution": {
          "iopub.status.busy": "2021-06-28T21:12:08.175772Z",
          "iopub.execute_input": "2021-06-28T21:12:08.176151Z",
          "iopub.status.idle": "2021-06-28T21:12:08.188567Z",
          "shell.execute_reply.started": "2021-06-28T21:12:08.176065Z",
          "shell.execute_reply": "2021-06-28T21:12:08.187647Z"
        },
        "trusted": true,
        "colab": {
          "base_uri": "https://localhost:8080/"
        }
      },
      "execution_count": 1,
      "outputs": [
        {
          "output_type": "stream",
          "name": "stdout",
          "text": [
            "Linux-6.1.58+-x86_64-with-glibc2.35\n"
          ]
        }
      ]
    },
    {
      "cell_type": "code",
      "source": [
        "# Use Google Colab TPU\n",
        "import tensorflow as tf\n",
        "tf.random.set_seed(805)\n",
        "TPU_INIT = False\n",
        "\n",
        "if TPU_INIT:\n",
        "    try:\n",
        "        tpu = tf.distribute.cluster_resolver.TPUClusterResolver.connect()\n",
        "        tpu_strategy = tf.distribute.experimental.TPUStrategy(tpu)\n",
        "\n",
        "    except ValueError:\n",
        "        raise BaseException('ERROR: Not connected to a TPU runtime!')\n",
        "else:\n",
        "    !nvidia-smi\n",
        ";\n",
        "print(\"Tensorflow version \" + tf.__version__)"
      ],
      "metadata": {
        "id": "m77ifGzHqtBg",
        "outputId": "c4f5cf3d-0a26-4717-af43-3e05d835b321",
        "execution": {
          "iopub.status.busy": "2021-06-28T21:12:12.538912Z",
          "iopub.execute_input": "2021-06-28T21:12:12.539247Z",
          "iopub.status.idle": "2021-06-28T21:12:18.360385Z",
          "shell.execute_reply.started": "2021-06-28T21:12:12.539218Z",
          "shell.execute_reply": "2021-06-28T21:12:18.359448Z"
        },
        "trusted": true,
        "colab": {
          "base_uri": "https://localhost:8080/"
        }
      },
      "execution_count": 2,
      "outputs": [
        {
          "output_type": "stream",
          "name": "stdout",
          "text": [
            "/bin/bash: line 1: nvidia-smi: command not found\n",
            "Tensorflow version 2.15.0\n"
          ]
        }
      ]
    },
    {
      "cell_type": "code",
      "source": [
        "#Import Dataset from Google Colab\n",
        "from google.colab import drive\n",
        "drive.mount('/content/drive')"
      ],
      "metadata": {
        "colab": {
          "base_uri": "https://localhost:8080/"
        },
        "id": "ehReL4JoAybm",
        "outputId": "c0cb4998-f16c-4a1e-92a8-adddd35897be"
      },
      "execution_count": 3,
      "outputs": [
        {
          "output_type": "stream",
          "name": "stdout",
          "text": [
            "Mounted at /content/drive\n"
          ]
        }
      ]
    },
    {
      "cell_type": "code",
      "source": [
        "# Dataset Working dir\n",
        "\n",
        "MyDrive = '/content/'\n",
        "\n",
        "PROJECT_DIR = '../content/drive/MyDrive/Computer-vision/real-life-violence-situations'\n",
        "!ls {PROJECT_DIR}"
      ],
      "metadata": {
        "id": "DwRUpYt5qs1l",
        "outputId": "05842ea5-ca10-4ece-f785-d5e24c678784",
        "execution": {
          "iopub.status.busy": "2021-06-28T21:12:26.392057Z",
          "iopub.execute_input": "2021-06-28T21:12:26.392432Z",
          "iopub.status.idle": "2021-06-28T21:12:27.147421Z",
          "shell.execute_reply.started": "2021-06-28T21:12:26.392397Z",
          "shell.execute_reply": "2021-06-28T21:12:27.146411Z"
        },
        "trusted": true,
        "colab": {
          "base_uri": "https://localhost:8080/"
        }
      },
      "execution_count": 4,
      "outputs": [
        {
          "output_type": "stream",
          "name": "stdout",
          "text": [
            "Real-Life-Violence-Dataset\n"
          ]
        }
      ]
    },
    {
      "cell_type": "markdown",
      "source": [
        "## **Preprocessing**"
      ],
      "metadata": {
        "id": "S2JKkgIa8Qwc"
      }
    },
    {
      "cell_type": "code",
      "source": [
        "!pip install imgaug"
      ],
      "metadata": {
        "colab": {
          "base_uri": "https://localhost:8080/"
        },
        "id": "Ejwclt78CFtR",
        "outputId": "419738f0-95d7-4dea-bf5a-40be5bdf0479"
      },
      "execution_count": 5,
      "outputs": [
        {
          "output_type": "stream",
          "name": "stdout",
          "text": [
            "Collecting imgaug\n",
            "  Downloading imgaug-0.4.0-py2.py3-none-any.whl (948 kB)\n",
            "\u001b[2K     \u001b[90m━━━━━━━━━━━━━━━━━━━━━━━━━━━━━━━━━━━━━━━━\u001b[0m \u001b[32m948.0/948.0 kB\u001b[0m \u001b[31m6.0 MB/s\u001b[0m eta \u001b[36m0:00:00\u001b[0m\n",
            "\u001b[?25hRequirement already satisfied: six in /usr/local/lib/python3.10/dist-packages (from imgaug) (1.16.0)\n",
            "Requirement already satisfied: numpy>=1.15 in /usr/local/lib/python3.10/dist-packages (from imgaug) (1.25.2)\n",
            "Requirement already satisfied: scipy in /usr/local/lib/python3.10/dist-packages (from imgaug) (1.11.4)\n",
            "Requirement already satisfied: Pillow in /usr/local/lib/python3.10/dist-packages (from imgaug) (10.3.0)\n",
            "Requirement already satisfied: matplotlib in /usr/local/lib/python3.10/dist-packages (from imgaug) (3.7.1)\n",
            "Requirement already satisfied: scikit-image>=0.14.2 in /usr/local/lib/python3.10/dist-packages (from imgaug) (0.19.3)\n",
            "Requirement already satisfied: opencv-python in /usr/local/lib/python3.10/dist-packages (from imgaug) (4.9.0.80)\n",
            "Requirement already satisfied: imageio in /usr/local/lib/python3.10/dist-packages (from imgaug) (2.34.0)\n",
            "Collecting Shapely (from imgaug)\n",
            "  Downloading shapely-2.0.4-cp310-cp310-manylinux_2_17_x86_64.manylinux2014_x86_64.whl (2.5 MB)\n",
            "\u001b[2K     \u001b[90m━━━━━━━━━━━━━━━━━━━━━━━━━━━━━━━━━━━━━━━━\u001b[0m \u001b[32m2.5/2.5 MB\u001b[0m \u001b[31m32.6 MB/s\u001b[0m eta \u001b[36m0:00:00\u001b[0m\n",
            "\u001b[?25hRequirement already satisfied: networkx>=2.2 in /usr/local/lib/python3.10/dist-packages (from scikit-image>=0.14.2->imgaug) (3.3)\n",
            "Requirement already satisfied: tifffile>=2019.7.26 in /usr/local/lib/python3.10/dist-packages (from scikit-image>=0.14.2->imgaug) (2024.2.12)\n",
            "Requirement already satisfied: PyWavelets>=1.1.1 in /usr/local/lib/python3.10/dist-packages (from scikit-image>=0.14.2->imgaug) (1.6.0)\n",
            "Requirement already satisfied: packaging>=20.0 in /usr/local/lib/python3.10/dist-packages (from scikit-image>=0.14.2->imgaug) (24.0)\n",
            "Requirement already satisfied: contourpy>=1.0.1 in /usr/local/lib/python3.10/dist-packages (from matplotlib->imgaug) (1.2.1)\n",
            "Requirement already satisfied: cycler>=0.10 in /usr/local/lib/python3.10/dist-packages (from matplotlib->imgaug) (0.12.1)\n",
            "Requirement already satisfied: fonttools>=4.22.0 in /usr/local/lib/python3.10/dist-packages (from matplotlib->imgaug) (4.51.0)\n",
            "Requirement already satisfied: kiwisolver>=1.0.1 in /usr/local/lib/python3.10/dist-packages (from matplotlib->imgaug) (1.4.5)\n",
            "Requirement already satisfied: pyparsing>=2.3.1 in /usr/local/lib/python3.10/dist-packages (from matplotlib->imgaug) (3.1.2)\n",
            "Requirement already satisfied: python-dateutil>=2.7 in /usr/local/lib/python3.10/dist-packages (from matplotlib->imgaug) (2.9.0.post0)\n",
            "Installing collected packages: Shapely, imgaug\n",
            "Successfully installed Shapely-2.0.4 imgaug-0.4.0\n"
          ]
        }
      ]
    },
    {
      "cell_type": "markdown",
      "source": [
        "### Function to get frames of videos\n",
        "\n",
        "Standarize, affine and rotate image from each video\n"
      ],
      "metadata": {
        "id": "nQ3MpD6EF8da"
      }
    },
    {
      "cell_type": "code",
      "source": [
        "import cv2\n",
        "import os\n",
        "import imageio\n",
        "import imgaug.augmenters as iaa\n",
        "import imgaug as ia\n",
        "\n",
        "# 128x128 standarize image size, 3 channels\n",
        "IMG_SIZE = 128\n",
        "ColorChannels = 3\n",
        "\n",
        "def video_to_frames(video):\n",
        "    vidcap = cv2.VideoCapture(video)\n",
        "\n",
        "    import math\n",
        "    rate = math.floor(vidcap.get(3))\n",
        "    count = 0\n",
        "\n",
        "    ImageFrames = []\n",
        "    while vidcap.isOpened():\n",
        "        ID = vidcap.get(1)\n",
        "        success, image = vidcap.read()\n",
        "\n",
        "        if success:\n",
        "            # skipping frames to avoid duplications\n",
        "            if (ID % 7 == 0):\n",
        "                flip = iaa.Fliplr(1.0)\n",
        "                zoom = iaa.Affine(scale=1.3)\n",
        "                random_brightness = iaa.Multiply((1, 1.3))\n",
        "                rotate = iaa.Affine(rotate=(-25, 25))\n",
        "\n",
        "                image_aug = flip(image = image)\n",
        "                image_aug = random_brightness(image = image_aug)\n",
        "                image_aug = zoom(image = image_aug)\n",
        "                image_aug = rotate(image = image_aug)\n",
        "\n",
        "                rgb_img = cv2.cvtColor(image_aug, cv2.COLOR_BGR2RGB)\n",
        "                resized = cv2.resize(rgb_img, (IMG_SIZE, IMG_SIZE))\n",
        "                ImageFrames.append(resized)\n",
        "\n",
        "            count += 1\n",
        "        else:\n",
        "            break\n",
        "\n",
        "    vidcap.release()\n",
        "\n",
        "    return ImageFrames"
      ],
      "metadata": {
        "execution": {
          "iopub.status.busy": "2021-06-28T21:13:35.503640Z",
          "iopub.execute_input": "2021-06-28T21:13:35.503988Z",
          "iopub.status.idle": "2021-06-28T21:13:37.178990Z",
          "shell.execute_reply.started": "2021-06-28T21:13:35.503957Z",
          "shell.execute_reply": "2021-06-28T21:13:37.178190Z"
        },
        "trusted": true,
        "id": "VtpG50ky8Qwe"
      },
      "execution_count": 6,
      "outputs": []
    },
    {
      "cell_type": "code",
      "source": [
        "# Assign the category to each frame extracted from the videos\n",
        "%%time\n",
        "from tqdm import tqdm\n",
        "\n",
        "VideoDataDir = PROJECT_DIR + '/Real-Life-Violence-Dataset'\n",
        "\n",
        "X_original = []\n",
        "y_original = []\n",
        "\n",
        "CLASSES = [\"NonViolence\", \"Violence\"]\n",
        "\n",
        "for category in os.listdir(VideoDataDir):\n",
        "    path = os.path.join(VideoDataDir, category)\n",
        "    class_num = CLASSES.index(category)\n",
        "    for i, video in enumerate(tqdm(os.listdir(path)[0:500])):\n",
        "        frames = video_to_frames(path + '/' + video)\n",
        "        for j, frame in enumerate(frames):\n",
        "            X_original.append(frame)\n",
        "            y_original.append(class_num)"
      ],
      "metadata": {
        "execution": {
          "iopub.status.busy": "2021-06-28T21:13:41.413870Z",
          "iopub.execute_input": "2021-06-28T21:13:41.414231Z",
          "iopub.status.idle": "2021-06-28T21:17:29.584414Z",
          "shell.execute_reply.started": "2021-06-28T21:13:41.414198Z",
          "shell.execute_reply": "2021-06-28T21:17:29.581822Z"
        },
        "trusted": true,
        "colab": {
          "base_uri": "https://localhost:8080/"
        },
        "id": "Om0G45ti8Qwe",
        "outputId": "c5d76e83-7893-4528-86f6-033ec45ff8ab"
      },
      "execution_count": 7,
      "outputs": [
        {
          "output_type": "stream",
          "name": "stdout",
          "text": [
            "we have \n",
            "1000 Violence videos \n",
            "1000 NonViolence videos\n",
            "i choose 700 videos out of 2000, cuz of memory issue\n"
          ]
        },
        {
          "output_type": "stream",
          "name": "stderr",
          "text": [
            "100%|██████████| 350/350 [01:10<00:00,  5.00it/s]\n",
            "100%|██████████| 350/350 [01:51<00:00,  3.13it/s]"
          ]
        },
        {
          "output_type": "stream",
          "name": "stdout",
          "text": [
            "CPU times: user 7min 20s, sys: 2min, total: 9min 21s\n",
            "Wall time: 3min 10s\n"
          ]
        },
        {
          "output_type": "stream",
          "name": "stderr",
          "text": [
            "\n"
          ]
        }
      ]
    },
    {
      "cell_type": "code",
      "source": [
        "import numpy as np\n",
        "X_original = np.array(X_original).reshape(-1 , IMG_SIZE * IMG_SIZE * 3)\n",
        "y_original = np.array(y_original)\n",
        "len(X_original)"
      ],
      "metadata": {
        "execution": {
          "iopub.status.busy": "2021-06-28T21:18:34.637958Z",
          "iopub.execute_input": "2021-06-28T21:18:34.638320Z",
          "iopub.status.idle": "2021-06-28T21:18:34.864211Z",
          "shell.execute_reply.started": "2021-06-28T21:18:34.638286Z",
          "shell.execute_reply": "2021-06-28T21:18:34.863222Z"
        },
        "trusted": true,
        "colab": {
          "base_uri": "https://localhost:8080/"
        },
        "id": "3lSFfJxP8Qwf",
        "outputId": "208ea891-c016-4273-849c-ad4f9757322f"
      },
      "execution_count": 8,
      "outputs": [
        {
          "output_type": "execute_result",
          "data": {
            "text/plain": [
              "13943"
            ]
          },
          "metadata": {},
          "execution_count": 8
        }
      ]
    },
    {
      "cell_type": "code",
      "source": [
        "# Split Train and test datasets\n",
        "from sklearn.model_selection import StratifiedShuffleSplit\n",
        "\n",
        "stratified_sample = StratifiedShuffleSplit(n_splits=2, test_size=0.3, random_state=73)\n",
        "\n",
        "for train_index, test_index in stratified_sample.split(X_original, y_original):\n",
        "    X_train, X_test = X_original[train_index], X_original[test_index]\n",
        "    y_train, y_test = y_original[train_index], y_original[test_index]\n",
        "\n",
        "X_train_nn = X_train.reshape(-1, IMG_SIZE, IMG_SIZE, 3) / 255\n",
        "X_test_nn = X_test.reshape(-1, IMG_SIZE, IMG_SIZE, 3) / 255"
      ],
      "metadata": {
        "execution": {
          "iopub.status.busy": "2021-06-28T21:18:40.129780Z",
          "iopub.execute_input": "2021-06-28T21:18:40.130114Z",
          "iopub.status.idle": "2021-06-28T21:18:42.322266Z",
          "shell.execute_reply.started": "2021-06-28T21:18:40.130083Z",
          "shell.execute_reply": "2021-06-28T21:18:42.321377Z"
        },
        "trusted": true,
        "id": "s3nmDjk08Qwf"
      },
      "execution_count": 9,
      "outputs": []
    },
    {
      "cell_type": "markdown",
      "source": [
        "## **Model Training**"
      ],
      "metadata": {
        "id": "fvmfQMM0p46i"
      }
    },
    {
      "cell_type": "code",
      "source": [
        "!pip install imutils"
      ],
      "metadata": {
        "execution": {
          "iopub.status.busy": "2021-06-28T21:18:46.747115Z",
          "iopub.execute_input": "2021-06-28T21:18:46.747492Z",
          "iopub.status.idle": "2021-06-28T21:18:56.074221Z",
          "shell.execute_reply.started": "2021-06-28T21:18:46.747463Z",
          "shell.execute_reply": "2021-06-28T21:18:56.073342Z"
        },
        "trusted": true,
        "id": "8gdm3leq8Qwg"
      },
      "execution_count": 10,
      "outputs": []
    },
    {
      "cell_type": "code",
      "source": [
        "import cv2\n",
        "import os\n",
        "import numpy as np\n",
        "import pickle\n",
        "import matplotlib\n",
        "import keras\n",
        "matplotlib.use(\"Agg\")\n",
        "\n",
        "from keras.layers import Input\n",
        "from keras.models import Model\n",
        "from keras.layers import Dense, Activation, Dropout, Reshape, Permute, Flatten\n",
        "\n",
        "import matplotlib.pyplot as plt"
      ],
      "metadata": {
        "id": "f5SLkPZ2I01J",
        "execution": {
          "iopub.status.busy": "2021-06-28T21:19:00.023698Z",
          "iopub.execute_input": "2021-06-28T21:19:00.024214Z",
          "iopub.status.idle": "2021-06-28T21:19:00.097339Z",
          "shell.execute_reply.started": "2021-06-28T21:19:00.024167Z",
          "shell.execute_reply": "2021-06-28T21:19:00.096328Z"
        },
        "trusted": true
      },
      "execution_count": 11,
      "outputs": []
    },
    {
      "cell_type": "code",
      "source": [
        "# Model Setup epochs and base model used\n",
        "epochs = 15\n",
        "\n",
        "from keras import regularizers\n",
        "kernel_regularizer = regularizers.l2(0.0001)\n",
        "\n",
        "from keras.applications import MobileNetV2\n",
        "\n",
        "def load_layers():\n",
        "    input_tensor = Input(shape=(IMG_SIZE, IMG_SIZE, ColorChannels))\n",
        "    baseModel = MobileNetV2(pooling='avg',\n",
        "                            include_top=False,\n",
        "                            input_tensor=input_tensor)\n",
        "\n",
        "    headModel = baseModel.output\n",
        "    headModel = Dense(1, activation=\"sigmoid\")(headModel)\n",
        "    model = Model(inputs=baseModel.input, outputs=headModel)\n",
        "\n",
        "    for layer in baseModel.layers:\n",
        "        layer.trainable = False\n",
        "\n",
        "    print(\"Compiling model...\")\n",
        "    model.compile(loss=\"binary_crossentropy\",\n",
        "                    optimizer='adam',\n",
        "                    metrics=[\"accuracy\"])\n",
        "\n",
        "    return model\n",
        "\n",
        "if TPU_INIT:\n",
        "    with tpu_strategy.scope():\n",
        "        model = load_layers()\n",
        "else:\n",
        "    model = load_layers()\n",
        "\n",
        "model.summary()"
      ],
      "metadata": {
        "id": "dNsCZbY3p8VM",
        "outputId": "a7e9cdd9-4b48-41fb-c4ee-603e45fb07c3",
        "_kg_hide-output": true,
        "execution": {
          "iopub.status.busy": "2021-06-28T21:19:03.584867Z",
          "iopub.execute_input": "2021-06-28T21:19:03.585235Z",
          "iopub.status.idle": "2021-06-28T21:19:06.799324Z",
          "shell.execute_reply.started": "2021-06-28T21:19:03.585199Z",
          "shell.execute_reply": "2021-06-28T21:19:06.798517Z"
        },
        "trusted": true,
        "colab": {
          "base_uri": "https://localhost:8080/"
        }
      },
      "execution_count": 12,
      "outputs": [
        {
          "output_type": "stream",
          "name": "stderr",
          "text": [
            "WARNING:tensorflow:`input_shape` is undefined or non-square, or `rows` is not in [96, 128, 160, 192, 224]. Weights for input shape (224, 224) will be loaded as the default.\n"
          ]
        },
        {
          "output_type": "stream",
          "name": "stdout",
          "text": [
            "Downloading data from https://storage.googleapis.com/tensorflow/keras-applications/mobilenet_v2/mobilenet_v2_weights_tf_dim_ordering_tf_kernels_1.0_224_no_top.h5\n",
            "9406464/9406464 [==============================] - 0s 0us/step\n",
            "Compiling model...\n",
            "Model: \"model\"\n",
            "__________________________________________________________________________________________________\n",
            " Layer (type)                Output Shape                 Param #   Connected to                  \n",
            "==================================================================================================\n",
            " input_1 (InputLayer)        [(None, 128, 128, 3)]        0         []                            \n",
            "                                                                                                  \n",
            " Conv1 (Conv2D)              (None, 64, 64, 32)           864       ['input_1[0][0]']             \n",
            "                                                                                                  \n",
            " bn_Conv1 (BatchNormalizati  (None, 64, 64, 32)           128       ['Conv1[0][0]']               \n",
            " on)                                                                                              \n",
            "                                                                                                  \n",
            " Conv1_relu (ReLU)           (None, 64, 64, 32)           0         ['bn_Conv1[0][0]']            \n",
            "                                                                                                  \n",
            " expanded_conv_depthwise (D  (None, 64, 64, 32)           288       ['Conv1_relu[0][0]']          \n",
            " epthwiseConv2D)                                                                                  \n",
            "                                                                                                  \n",
            " expanded_conv_depthwise_BN  (None, 64, 64, 32)           128       ['expanded_conv_depthwise[0][0\n",
            "  (BatchNormalization)                                              ]']                           \n",
            "                                                                                                  \n",
            " expanded_conv_depthwise_re  (None, 64, 64, 32)           0         ['expanded_conv_depthwise_BN[0\n",
            " lu (ReLU)                                                          ][0]']                        \n",
            "                                                                                                  \n",
            " expanded_conv_project (Con  (None, 64, 64, 16)           512       ['expanded_conv_depthwise_relu\n",
            " v2D)                                                               [0][0]']                      \n",
            "                                                                                                  \n",
            " expanded_conv_project_BN (  (None, 64, 64, 16)           64        ['expanded_conv_project[0][0]'\n",
            " BatchNormalization)                                                ]                             \n",
            "                                                                                                  \n",
            " block_1_expand (Conv2D)     (None, 64, 64, 96)           1536      ['expanded_conv_project_BN[0][\n",
            "                                                                    0]']                          \n",
            "                                                                                                  \n",
            " block_1_expand_BN (BatchNo  (None, 64, 64, 96)           384       ['block_1_expand[0][0]']      \n",
            " rmalization)                                                                                     \n",
            "                                                                                                  \n",
            " block_1_expand_relu (ReLU)  (None, 64, 64, 96)           0         ['block_1_expand_BN[0][0]']   \n",
            "                                                                                                  \n",
            " block_1_pad (ZeroPadding2D  (None, 65, 65, 96)           0         ['block_1_expand_relu[0][0]'] \n",
            " )                                                                                                \n",
            "                                                                                                  \n",
            " block_1_depthwise (Depthwi  (None, 32, 32, 96)           864       ['block_1_pad[0][0]']         \n",
            " seConv2D)                                                                                        \n",
            "                                                                                                  \n",
            " block_1_depthwise_BN (Batc  (None, 32, 32, 96)           384       ['block_1_depthwise[0][0]']   \n",
            " hNormalization)                                                                                  \n",
            "                                                                                                  \n",
            " block_1_depthwise_relu (Re  (None, 32, 32, 96)           0         ['block_1_depthwise_BN[0][0]']\n",
            " LU)                                                                                              \n",
            "                                                                                                  \n",
            " block_1_project (Conv2D)    (None, 32, 32, 24)           2304      ['block_1_depthwise_relu[0][0]\n",
            "                                                                    ']                            \n",
            "                                                                                                  \n",
            " block_1_project_BN (BatchN  (None, 32, 32, 24)           96        ['block_1_project[0][0]']     \n",
            " ormalization)                                                                                    \n",
            "                                                                                                  \n",
            " block_2_expand (Conv2D)     (None, 32, 32, 144)          3456      ['block_1_project_BN[0][0]']  \n",
            "                                                                                                  \n",
            " block_2_expand_BN (BatchNo  (None, 32, 32, 144)          576       ['block_2_expand[0][0]']      \n",
            " rmalization)                                                                                     \n",
            "                                                                                                  \n",
            " block_2_expand_relu (ReLU)  (None, 32, 32, 144)          0         ['block_2_expand_BN[0][0]']   \n",
            "                                                                                                  \n",
            " block_2_depthwise (Depthwi  (None, 32, 32, 144)          1296      ['block_2_expand_relu[0][0]'] \n",
            " seConv2D)                                                                                        \n",
            "                                                                                                  \n",
            " block_2_depthwise_BN (Batc  (None, 32, 32, 144)          576       ['block_2_depthwise[0][0]']   \n",
            " hNormalization)                                                                                  \n",
            "                                                                                                  \n",
            " block_2_depthwise_relu (Re  (None, 32, 32, 144)          0         ['block_2_depthwise_BN[0][0]']\n",
            " LU)                                                                                              \n",
            "                                                                                                  \n",
            " block_2_project (Conv2D)    (None, 32, 32, 24)           3456      ['block_2_depthwise_relu[0][0]\n",
            "                                                                    ']                            \n",
            "                                                                                                  \n",
            " block_2_project_BN (BatchN  (None, 32, 32, 24)           96        ['block_2_project[0][0]']     \n",
            " ormalization)                                                                                    \n",
            "                                                                                                  \n",
            " block_2_add (Add)           (None, 32, 32, 24)           0         ['block_1_project_BN[0][0]',  \n",
            "                                                                     'block_2_project_BN[0][0]']  \n",
            "                                                                                                  \n",
            " block_3_expand (Conv2D)     (None, 32, 32, 144)          3456      ['block_2_add[0][0]']         \n",
            "                                                                                                  \n",
            " block_3_expand_BN (BatchNo  (None, 32, 32, 144)          576       ['block_3_expand[0][0]']      \n",
            " rmalization)                                                                                     \n",
            "                                                                                                  \n",
            " block_3_expand_relu (ReLU)  (None, 32, 32, 144)          0         ['block_3_expand_BN[0][0]']   \n",
            "                                                                                                  \n",
            " block_3_pad (ZeroPadding2D  (None, 33, 33, 144)          0         ['block_3_expand_relu[0][0]'] \n",
            " )                                                                                                \n",
            "                                                                                                  \n",
            " block_3_depthwise (Depthwi  (None, 16, 16, 144)          1296      ['block_3_pad[0][0]']         \n",
            " seConv2D)                                                                                        \n",
            "                                                                                                  \n",
            " block_3_depthwise_BN (Batc  (None, 16, 16, 144)          576       ['block_3_depthwise[0][0]']   \n",
            " hNormalization)                                                                                  \n",
            "                                                                                                  \n",
            " block_3_depthwise_relu (Re  (None, 16, 16, 144)          0         ['block_3_depthwise_BN[0][0]']\n",
            " LU)                                                                                              \n",
            "                                                                                                  \n",
            " block_3_project (Conv2D)    (None, 16, 16, 32)           4608      ['block_3_depthwise_relu[0][0]\n",
            "                                                                    ']                            \n",
            "                                                                                                  \n",
            " block_3_project_BN (BatchN  (None, 16, 16, 32)           128       ['block_3_project[0][0]']     \n",
            " ormalization)                                                                                    \n",
            "                                                                                                  \n",
            " block_4_expand (Conv2D)     (None, 16, 16, 192)          6144      ['block_3_project_BN[0][0]']  \n",
            "                                                                                                  \n",
            " block_4_expand_BN (BatchNo  (None, 16, 16, 192)          768       ['block_4_expand[0][0]']      \n",
            " rmalization)                                                                                     \n",
            "                                                                                                  \n",
            " block_4_expand_relu (ReLU)  (None, 16, 16, 192)          0         ['block_4_expand_BN[0][0]']   \n",
            "                                                                                                  \n",
            " block_4_depthwise (Depthwi  (None, 16, 16, 192)          1728      ['block_4_expand_relu[0][0]'] \n",
            " seConv2D)                                                                                        \n",
            "                                                                                                  \n",
            " block_4_depthwise_BN (Batc  (None, 16, 16, 192)          768       ['block_4_depthwise[0][0]']   \n",
            " hNormalization)                                                                                  \n",
            "                                                                                                  \n",
            " block_4_depthwise_relu (Re  (None, 16, 16, 192)          0         ['block_4_depthwise_BN[0][0]']\n",
            " LU)                                                                                              \n",
            "                                                                                                  \n",
            " block_4_project (Conv2D)    (None, 16, 16, 32)           6144      ['block_4_depthwise_relu[0][0]\n",
            "                                                                    ']                            \n",
            "                                                                                                  \n",
            " block_4_project_BN (BatchN  (None, 16, 16, 32)           128       ['block_4_project[0][0]']     \n",
            " ormalization)                                                                                    \n",
            "                                                                                                  \n",
            " block_4_add (Add)           (None, 16, 16, 32)           0         ['block_3_project_BN[0][0]',  \n",
            "                                                                     'block_4_project_BN[0][0]']  \n",
            "                                                                                                  \n",
            " block_5_expand (Conv2D)     (None, 16, 16, 192)          6144      ['block_4_add[0][0]']         \n",
            "                                                                                                  \n",
            " block_5_expand_BN (BatchNo  (None, 16, 16, 192)          768       ['block_5_expand[0][0]']      \n",
            " rmalization)                                                                                     \n",
            "                                                                                                  \n",
            " block_5_expand_relu (ReLU)  (None, 16, 16, 192)          0         ['block_5_expand_BN[0][0]']   \n",
            "                                                                                                  \n",
            " block_5_depthwise (Depthwi  (None, 16, 16, 192)          1728      ['block_5_expand_relu[0][0]'] \n",
            " seConv2D)                                                                                        \n",
            "                                                                                                  \n",
            " block_5_depthwise_BN (Batc  (None, 16, 16, 192)          768       ['block_5_depthwise[0][0]']   \n",
            " hNormalization)                                                                                  \n",
            "                                                                                                  \n",
            " block_5_depthwise_relu (Re  (None, 16, 16, 192)          0         ['block_5_depthwise_BN[0][0]']\n",
            " LU)                                                                                              \n",
            "                                                                                                  \n",
            " block_5_project (Conv2D)    (None, 16, 16, 32)           6144      ['block_5_depthwise_relu[0][0]\n",
            "                                                                    ']                            \n",
            "                                                                                                  \n",
            " block_5_project_BN (BatchN  (None, 16, 16, 32)           128       ['block_5_project[0][0]']     \n",
            " ormalization)                                                                                    \n",
            "                                                                                                  \n",
            " block_5_add (Add)           (None, 16, 16, 32)           0         ['block_4_add[0][0]',         \n",
            "                                                                     'block_5_project_BN[0][0]']  \n",
            "                                                                                                  \n",
            " block_6_expand (Conv2D)     (None, 16, 16, 192)          6144      ['block_5_add[0][0]']         \n",
            "                                                                                                  \n",
            " block_6_expand_BN (BatchNo  (None, 16, 16, 192)          768       ['block_6_expand[0][0]']      \n",
            " rmalization)                                                                                     \n",
            "                                                                                                  \n",
            " block_6_expand_relu (ReLU)  (None, 16, 16, 192)          0         ['block_6_expand_BN[0][0]']   \n",
            "                                                                                                  \n",
            " block_6_pad (ZeroPadding2D  (None, 17, 17, 192)          0         ['block_6_expand_relu[0][0]'] \n",
            " )                                                                                                \n",
            "                                                                                                  \n",
            " block_6_depthwise (Depthwi  (None, 8, 8, 192)            1728      ['block_6_pad[0][0]']         \n",
            " seConv2D)                                                                                        \n",
            "                                                                                                  \n",
            " block_6_depthwise_BN (Batc  (None, 8, 8, 192)            768       ['block_6_depthwise[0][0]']   \n",
            " hNormalization)                                                                                  \n",
            "                                                                                                  \n",
            " block_6_depthwise_relu (Re  (None, 8, 8, 192)            0         ['block_6_depthwise_BN[0][0]']\n",
            " LU)                                                                                              \n",
            "                                                                                                  \n",
            " block_6_project (Conv2D)    (None, 8, 8, 64)             12288     ['block_6_depthwise_relu[0][0]\n",
            "                                                                    ']                            \n",
            "                                                                                                  \n",
            " block_6_project_BN (BatchN  (None, 8, 8, 64)             256       ['block_6_project[0][0]']     \n",
            " ormalization)                                                                                    \n",
            "                                                                                                  \n",
            " block_7_expand (Conv2D)     (None, 8, 8, 384)            24576     ['block_6_project_BN[0][0]']  \n",
            "                                                                                                  \n",
            " block_7_expand_BN (BatchNo  (None, 8, 8, 384)            1536      ['block_7_expand[0][0]']      \n",
            " rmalization)                                                                                     \n",
            "                                                                                                  \n",
            " block_7_expand_relu (ReLU)  (None, 8, 8, 384)            0         ['block_7_expand_BN[0][0]']   \n",
            "                                                                                                  \n",
            " block_7_depthwise (Depthwi  (None, 8, 8, 384)            3456      ['block_7_expand_relu[0][0]'] \n",
            " seConv2D)                                                                                        \n",
            "                                                                                                  \n",
            " block_7_depthwise_BN (Batc  (None, 8, 8, 384)            1536      ['block_7_depthwise[0][0]']   \n",
            " hNormalization)                                                                                  \n",
            "                                                                                                  \n",
            " block_7_depthwise_relu (Re  (None, 8, 8, 384)            0         ['block_7_depthwise_BN[0][0]']\n",
            " LU)                                                                                              \n",
            "                                                                                                  \n",
            " block_7_project (Conv2D)    (None, 8, 8, 64)             24576     ['block_7_depthwise_relu[0][0]\n",
            "                                                                    ']                            \n",
            "                                                                                                  \n",
            " block_7_project_BN (BatchN  (None, 8, 8, 64)             256       ['block_7_project[0][0]']     \n",
            " ormalization)                                                                                    \n",
            "                                                                                                  \n",
            " block_7_add (Add)           (None, 8, 8, 64)             0         ['block_6_project_BN[0][0]',  \n",
            "                                                                     'block_7_project_BN[0][0]']  \n",
            "                                                                                                  \n",
            " block_8_expand (Conv2D)     (None, 8, 8, 384)            24576     ['block_7_add[0][0]']         \n",
            "                                                                                                  \n",
            " block_8_expand_BN (BatchNo  (None, 8, 8, 384)            1536      ['block_8_expand[0][0]']      \n",
            " rmalization)                                                                                     \n",
            "                                                                                                  \n",
            " block_8_expand_relu (ReLU)  (None, 8, 8, 384)            0         ['block_8_expand_BN[0][0]']   \n",
            "                                                                                                  \n",
            " block_8_depthwise (Depthwi  (None, 8, 8, 384)            3456      ['block_8_expand_relu[0][0]'] \n",
            " seConv2D)                                                                                        \n",
            "                                                                                                  \n",
            " block_8_depthwise_BN (Batc  (None, 8, 8, 384)            1536      ['block_8_depthwise[0][0]']   \n",
            " hNormalization)                                                                                  \n",
            "                                                                                                  \n",
            " block_8_depthwise_relu (Re  (None, 8, 8, 384)            0         ['block_8_depthwise_BN[0][0]']\n",
            " LU)                                                                                              \n",
            "                                                                                                  \n",
            " block_8_project (Conv2D)    (None, 8, 8, 64)             24576     ['block_8_depthwise_relu[0][0]\n",
            "                                                                    ']                            \n",
            "                                                                                                  \n",
            " block_8_project_BN (BatchN  (None, 8, 8, 64)             256       ['block_8_project[0][0]']     \n",
            " ormalization)                                                                                    \n",
            "                                                                                                  \n",
            " block_8_add (Add)           (None, 8, 8, 64)             0         ['block_7_add[0][0]',         \n",
            "                                                                     'block_8_project_BN[0][0]']  \n",
            "                                                                                                  \n",
            " block_9_expand (Conv2D)     (None, 8, 8, 384)            24576     ['block_8_add[0][0]']         \n",
            "                                                                                                  \n",
            " block_9_expand_BN (BatchNo  (None, 8, 8, 384)            1536      ['block_9_expand[0][0]']      \n",
            " rmalization)                                                                                     \n",
            "                                                                                                  \n",
            " block_9_expand_relu (ReLU)  (None, 8, 8, 384)            0         ['block_9_expand_BN[0][0]']   \n",
            "                                                                                                  \n",
            " block_9_depthwise (Depthwi  (None, 8, 8, 384)            3456      ['block_9_expand_relu[0][0]'] \n",
            " seConv2D)                                                                                        \n",
            "                                                                                                  \n",
            " block_9_depthwise_BN (Batc  (None, 8, 8, 384)            1536      ['block_9_depthwise[0][0]']   \n",
            " hNormalization)                                                                                  \n",
            "                                                                                                  \n",
            " block_9_depthwise_relu (Re  (None, 8, 8, 384)            0         ['block_9_depthwise_BN[0][0]']\n",
            " LU)                                                                                              \n",
            "                                                                                                  \n",
            " block_9_project (Conv2D)    (None, 8, 8, 64)             24576     ['block_9_depthwise_relu[0][0]\n",
            "                                                                    ']                            \n",
            "                                                                                                  \n",
            " block_9_project_BN (BatchN  (None, 8, 8, 64)             256       ['block_9_project[0][0]']     \n",
            " ormalization)                                                                                    \n",
            "                                                                                                  \n",
            " block_9_add (Add)           (None, 8, 8, 64)             0         ['block_8_add[0][0]',         \n",
            "                                                                     'block_9_project_BN[0][0]']  \n",
            "                                                                                                  \n",
            " block_10_expand (Conv2D)    (None, 8, 8, 384)            24576     ['block_9_add[0][0]']         \n",
            "                                                                                                  \n",
            " block_10_expand_BN (BatchN  (None, 8, 8, 384)            1536      ['block_10_expand[0][0]']     \n",
            " ormalization)                                                                                    \n",
            "                                                                                                  \n",
            " block_10_expand_relu (ReLU  (None, 8, 8, 384)            0         ['block_10_expand_BN[0][0]']  \n",
            " )                                                                                                \n",
            "                                                                                                  \n",
            " block_10_depthwise (Depthw  (None, 8, 8, 384)            3456      ['block_10_expand_relu[0][0]']\n",
            " iseConv2D)                                                                                       \n",
            "                                                                                                  \n",
            " block_10_depthwise_BN (Bat  (None, 8, 8, 384)            1536      ['block_10_depthwise[0][0]']  \n",
            " chNormalization)                                                                                 \n",
            "                                                                                                  \n",
            " block_10_depthwise_relu (R  (None, 8, 8, 384)            0         ['block_10_depthwise_BN[0][0]'\n",
            " eLU)                                                               ]                             \n",
            "                                                                                                  \n",
            " block_10_project (Conv2D)   (None, 8, 8, 96)             36864     ['block_10_depthwise_relu[0][0\n",
            "                                                                    ]']                           \n",
            "                                                                                                  \n",
            " block_10_project_BN (Batch  (None, 8, 8, 96)             384       ['block_10_project[0][0]']    \n",
            " Normalization)                                                                                   \n",
            "                                                                                                  \n",
            " block_11_expand (Conv2D)    (None, 8, 8, 576)            55296     ['block_10_project_BN[0][0]'] \n",
            "                                                                                                  \n",
            " block_11_expand_BN (BatchN  (None, 8, 8, 576)            2304      ['block_11_expand[0][0]']     \n",
            " ormalization)                                                                                    \n",
            "                                                                                                  \n",
            " block_11_expand_relu (ReLU  (None, 8, 8, 576)            0         ['block_11_expand_BN[0][0]']  \n",
            " )                                                                                                \n",
            "                                                                                                  \n",
            " block_11_depthwise (Depthw  (None, 8, 8, 576)            5184      ['block_11_expand_relu[0][0]']\n",
            " iseConv2D)                                                                                       \n",
            "                                                                                                  \n",
            " block_11_depthwise_BN (Bat  (None, 8, 8, 576)            2304      ['block_11_depthwise[0][0]']  \n",
            " chNormalization)                                                                                 \n",
            "                                                                                                  \n",
            " block_11_depthwise_relu (R  (None, 8, 8, 576)            0         ['block_11_depthwise_BN[0][0]'\n",
            " eLU)                                                               ]                             \n",
            "                                                                                                  \n",
            " block_11_project (Conv2D)   (None, 8, 8, 96)             55296     ['block_11_depthwise_relu[0][0\n",
            "                                                                    ]']                           \n",
            "                                                                                                  \n",
            " block_11_project_BN (Batch  (None, 8, 8, 96)             384       ['block_11_project[0][0]']    \n",
            " Normalization)                                                                                   \n",
            "                                                                                                  \n",
            " block_11_add (Add)          (None, 8, 8, 96)             0         ['block_10_project_BN[0][0]', \n",
            "                                                                     'block_11_project_BN[0][0]'] \n",
            "                                                                                                  \n",
            " block_12_expand (Conv2D)    (None, 8, 8, 576)            55296     ['block_11_add[0][0]']        \n",
            "                                                                                                  \n",
            " block_12_expand_BN (BatchN  (None, 8, 8, 576)            2304      ['block_12_expand[0][0]']     \n",
            " ormalization)                                                                                    \n",
            "                                                                                                  \n",
            " block_12_expand_relu (ReLU  (None, 8, 8, 576)            0         ['block_12_expand_BN[0][0]']  \n",
            " )                                                                                                \n",
            "                                                                                                  \n",
            " block_12_depthwise (Depthw  (None, 8, 8, 576)            5184      ['block_12_expand_relu[0][0]']\n",
            " iseConv2D)                                                                                       \n",
            "                                                                                                  \n",
            " block_12_depthwise_BN (Bat  (None, 8, 8, 576)            2304      ['block_12_depthwise[0][0]']  \n",
            " chNormalization)                                                                                 \n",
            "                                                                                                  \n",
            " block_12_depthwise_relu (R  (None, 8, 8, 576)            0         ['block_12_depthwise_BN[0][0]'\n",
            " eLU)                                                               ]                             \n",
            "                                                                                                  \n",
            " block_12_project (Conv2D)   (None, 8, 8, 96)             55296     ['block_12_depthwise_relu[0][0\n",
            "                                                                    ]']                           \n",
            "                                                                                                  \n",
            " block_12_project_BN (Batch  (None, 8, 8, 96)             384       ['block_12_project[0][0]']    \n",
            " Normalization)                                                                                   \n",
            "                                                                                                  \n",
            " block_12_add (Add)          (None, 8, 8, 96)             0         ['block_11_add[0][0]',        \n",
            "                                                                     'block_12_project_BN[0][0]'] \n",
            "                                                                                                  \n",
            " block_13_expand (Conv2D)    (None, 8, 8, 576)            55296     ['block_12_add[0][0]']        \n",
            "                                                                                                  \n",
            " block_13_expand_BN (BatchN  (None, 8, 8, 576)            2304      ['block_13_expand[0][0]']     \n",
            " ormalization)                                                                                    \n",
            "                                                                                                  \n",
            " block_13_expand_relu (ReLU  (None, 8, 8, 576)            0         ['block_13_expand_BN[0][0]']  \n",
            " )                                                                                                \n",
            "                                                                                                  \n",
            " block_13_pad (ZeroPadding2  (None, 9, 9, 576)            0         ['block_13_expand_relu[0][0]']\n",
            " D)                                                                                               \n",
            "                                                                                                  \n",
            " block_13_depthwise (Depthw  (None, 4, 4, 576)            5184      ['block_13_pad[0][0]']        \n",
            " iseConv2D)                                                                                       \n",
            "                                                                                                  \n",
            " block_13_depthwise_BN (Bat  (None, 4, 4, 576)            2304      ['block_13_depthwise[0][0]']  \n",
            " chNormalization)                                                                                 \n",
            "                                                                                                  \n",
            " block_13_depthwise_relu (R  (None, 4, 4, 576)            0         ['block_13_depthwise_BN[0][0]'\n",
            " eLU)                                                               ]                             \n",
            "                                                                                                  \n",
            " block_13_project (Conv2D)   (None, 4, 4, 160)            92160     ['block_13_depthwise_relu[0][0\n",
            "                                                                    ]']                           \n",
            "                                                                                                  \n",
            " block_13_project_BN (Batch  (None, 4, 4, 160)            640       ['block_13_project[0][0]']    \n",
            " Normalization)                                                                                   \n",
            "                                                                                                  \n",
            " block_14_expand (Conv2D)    (None, 4, 4, 960)            153600    ['block_13_project_BN[0][0]'] \n",
            "                                                                                                  \n",
            " block_14_expand_BN (BatchN  (None, 4, 4, 960)            3840      ['block_14_expand[0][0]']     \n",
            " ormalization)                                                                                    \n",
            "                                                                                                  \n",
            " block_14_expand_relu (ReLU  (None, 4, 4, 960)            0         ['block_14_expand_BN[0][0]']  \n",
            " )                                                                                                \n",
            "                                                                                                  \n",
            " block_14_depthwise (Depthw  (None, 4, 4, 960)            8640      ['block_14_expand_relu[0][0]']\n",
            " iseConv2D)                                                                                       \n",
            "                                                                                                  \n",
            " block_14_depthwise_BN (Bat  (None, 4, 4, 960)            3840      ['block_14_depthwise[0][0]']  \n",
            " chNormalization)                                                                                 \n",
            "                                                                                                  \n",
            " block_14_depthwise_relu (R  (None, 4, 4, 960)            0         ['block_14_depthwise_BN[0][0]'\n",
            " eLU)                                                               ]                             \n",
            "                                                                                                  \n",
            " block_14_project (Conv2D)   (None, 4, 4, 160)            153600    ['block_14_depthwise_relu[0][0\n",
            "                                                                    ]']                           \n",
            "                                                                                                  \n",
            " block_14_project_BN (Batch  (None, 4, 4, 160)            640       ['block_14_project[0][0]']    \n",
            " Normalization)                                                                                   \n",
            "                                                                                                  \n",
            " block_14_add (Add)          (None, 4, 4, 160)            0         ['block_13_project_BN[0][0]', \n",
            "                                                                     'block_14_project_BN[0][0]'] \n",
            "                                                                                                  \n",
            " block_15_expand (Conv2D)    (None, 4, 4, 960)            153600    ['block_14_add[0][0]']        \n",
            "                                                                                                  \n",
            " block_15_expand_BN (BatchN  (None, 4, 4, 960)            3840      ['block_15_expand[0][0]']     \n",
            " ormalization)                                                                                    \n",
            "                                                                                                  \n",
            " block_15_expand_relu (ReLU  (None, 4, 4, 960)            0         ['block_15_expand_BN[0][0]']  \n",
            " )                                                                                                \n",
            "                                                                                                  \n",
            " block_15_depthwise (Depthw  (None, 4, 4, 960)            8640      ['block_15_expand_relu[0][0]']\n",
            " iseConv2D)                                                                                       \n",
            "                                                                                                  \n",
            " block_15_depthwise_BN (Bat  (None, 4, 4, 960)            3840      ['block_15_depthwise[0][0]']  \n",
            " chNormalization)                                                                                 \n",
            "                                                                                                  \n",
            " block_15_depthwise_relu (R  (None, 4, 4, 960)            0         ['block_15_depthwise_BN[0][0]'\n",
            " eLU)                                                               ]                             \n",
            "                                                                                                  \n",
            " block_15_project (Conv2D)   (None, 4, 4, 160)            153600    ['block_15_depthwise_relu[0][0\n",
            "                                                                    ]']                           \n",
            "                                                                                                  \n",
            " block_15_project_BN (Batch  (None, 4, 4, 160)            640       ['block_15_project[0][0]']    \n",
            " Normalization)                                                                                   \n",
            "                                                                                                  \n",
            " block_15_add (Add)          (None, 4, 4, 160)            0         ['block_14_add[0][0]',        \n",
            "                                                                     'block_15_project_BN[0][0]'] \n",
            "                                                                                                  \n",
            " block_16_expand (Conv2D)    (None, 4, 4, 960)            153600    ['block_15_add[0][0]']        \n",
            "                                                                                                  \n",
            " block_16_expand_BN (BatchN  (None, 4, 4, 960)            3840      ['block_16_expand[0][0]']     \n",
            " ormalization)                                                                                    \n",
            "                                                                                                  \n",
            " block_16_expand_relu (ReLU  (None, 4, 4, 960)            0         ['block_16_expand_BN[0][0]']  \n",
            " )                                                                                                \n",
            "                                                                                                  \n",
            " block_16_depthwise (Depthw  (None, 4, 4, 960)            8640      ['block_16_expand_relu[0][0]']\n",
            " iseConv2D)                                                                                       \n",
            "                                                                                                  \n",
            " block_16_depthwise_BN (Bat  (None, 4, 4, 960)            3840      ['block_16_depthwise[0][0]']  \n",
            " chNormalization)                                                                                 \n",
            "                                                                                                  \n",
            " block_16_depthwise_relu (R  (None, 4, 4, 960)            0         ['block_16_depthwise_BN[0][0]'\n",
            " eLU)                                                               ]                             \n",
            "                                                                                                  \n",
            " block_16_project (Conv2D)   (None, 4, 4, 320)            307200    ['block_16_depthwise_relu[0][0\n",
            "                                                                    ]']                           \n",
            "                                                                                                  \n",
            " block_16_project_BN (Batch  (None, 4, 4, 320)            1280      ['block_16_project[0][0]']    \n",
            " Normalization)                                                                                   \n",
            "                                                                                                  \n",
            " Conv_1 (Conv2D)             (None, 4, 4, 1280)           409600    ['block_16_project_BN[0][0]'] \n",
            "                                                                                                  \n",
            " Conv_1_bn (BatchNormalizat  (None, 4, 4, 1280)           5120      ['Conv_1[0][0]']              \n",
            " ion)                                                                                             \n",
            "                                                                                                  \n",
            " out_relu (ReLU)             (None, 4, 4, 1280)           0         ['Conv_1_bn[0][0]']           \n",
            "                                                                                                  \n",
            " global_average_pooling2d (  (None, 1280)                 0         ['out_relu[0][0]']            \n",
            " GlobalAveragePooling2D)                                                                          \n",
            "                                                                                                  \n",
            " dense (Dense)               (None, 1)                    1281      ['global_average_pooling2d[0][\n",
            "                                                                    0]']                          \n",
            "                                                                                                  \n",
            "==================================================================================================\n",
            "Total params: 2259265 (8.62 MB)\n",
            "Trainable params: 1281 (5.00 KB)\n",
            "Non-trainable params: 2257984 (8.61 MB)\n",
            "__________________________________________________________________________________________________\n"
          ]
        }
      ]
    },
    {
      "cell_type": "code",
      "source": [
        "from tensorflow.keras.callbacks import Callback, ModelCheckpoint, LearningRateScheduler, TensorBoard, EarlyStopping, ReduceLROnPlateau\n",
        "\n",
        "#Fine tune the learning rates and batch size\n",
        "patience = 3\n",
        "\n",
        "start_lr = 0.00001\n",
        "min_lr = 0.00001\n",
        "max_lr = 0.00005\n",
        "\n",
        "batch_size = 4\n",
        "\n",
        "if TPU_INIT:\n",
        "    max_lr = max_lr * tpu_strategy.num_replicas_in_sync\n",
        "    batch_size = batch_size * tpu_strategy.num_replicas_in_sync\n",
        "\n",
        "rampup_epochs = 5\n",
        "sustain_epochs = 0\n",
        "exp_decay = .8\n",
        "\n",
        "def lrfn(epoch):\n",
        "    if epoch < rampup_epochs:\n",
        "        return (max_lr - start_lr)/rampup_epochs * epoch + start_lr\n",
        "    elif epoch < rampup_epochs + sustain_epochs:\n",
        "        return max_lr\n",
        "    else:\n",
        "        return (max_lr - min_lr) * exp_decay**(epoch-rampup_epochs-sustain_epochs) + min_lr\n",
        "\n",
        "\n",
        "class myCallback(Callback):\n",
        "    def on_epoch_end(self, epoch, logs={}):\n",
        "        if ((logs.get('accuracy')>=0.999)):\n",
        "            print(\"\\nLimits Reached cancelling training!\")\n",
        "            self.model.stop_training = True"
      ],
      "metadata": {
        "id": "Ot4-s-9rLwF4",
        "execution": {
          "iopub.status.busy": "2021-06-28T21:19:22.162673Z",
          "iopub.execute_input": "2021-06-28T21:19:22.163129Z",
          "iopub.status.idle": "2021-06-28T21:19:22.176337Z",
          "shell.execute_reply.started": "2021-06-28T21:19:22.163083Z",
          "shell.execute_reply": "2021-06-28T21:19:22.175519Z"
        },
        "trusted": true
      },
      "execution_count": 13,
      "outputs": []
    },
    {
      "cell_type": "code",
      "source": [
        "end_callback = myCallback()\n",
        "\n",
        "lr_callback = LearningRateScheduler(lambda epoch: lrfn(epoch), verbose=False)\n",
        "\n",
        "early_stopping = EarlyStopping(patience = patience, monitor='val_loss',\n",
        "                                 mode='min', restore_best_weights=True,\n",
        "                                 verbose = 1, min_delta = .00075)\n",
        "\n",
        "PROJECT_DIR = MyDrive + '/RiskDetection'\n",
        "\n",
        "lr_plat = ReduceLROnPlateau(patience = 2, mode = 'min')\n",
        "\n",
        "os.system('rm -rf ./logs/')\n",
        "\n",
        "import datetime\n",
        "log_dir=\"logs/fit/\" + datetime.datetime.now().strftime(\"%Y%m%d-%H%M%S\")\n",
        "tensorboard_callback = TensorBoard(log_dir = log_dir, write_graph=True, histogram_freq=1)\n",
        "\n",
        "checkpoint_filepath = 'ModelWeights.h5'\n",
        "\n",
        "model_checkpoints = ModelCheckpoint(filepath=checkpoint_filepath,\n",
        "                                        save_weights_only=True,\n",
        "                                        monitor='val_loss',\n",
        "                                        mode='min',\n",
        "                                        verbose = 1,\n",
        "                                        save_best_only=True)\n",
        "\n",
        "\n",
        "callbacks = [end_callback, lr_callback, model_checkpoints, tensorboard_callback, early_stopping, lr_plat]\n",
        "\n",
        "if TPU_INIT:\n",
        "    callbacks = [end_callback, lr_callback, model_checkpoints, early_stopping, lr_plat]"
      ],
      "metadata": {
        "execution": {
          "iopub.status.busy": "2021-06-28T21:19:28.031227Z",
          "iopub.execute_input": "2021-06-28T21:19:28.031571Z",
          "iopub.status.idle": "2021-06-28T21:19:28.388810Z",
          "shell.execute_reply.started": "2021-06-28T21:19:28.031539Z",
          "shell.execute_reply": "2021-06-28T21:19:28.387749Z"
        },
        "trusted": true,
        "id": "I5ETkw3Z8Qwh"
      },
      "execution_count": 14,
      "outputs": []
    },
    {
      "cell_type": "code",
      "source": [
        "#Training of the model\n",
        "history = model.fit(X_train_nn ,y_train, epochs=epochs,\n",
        "                        callbacks=callbacks,\n",
        "                        validation_data = (X_test_nn, y_test),\n",
        "                        batch_size=batch_size)\n",
        "\n",
        "model.load_weights(checkpoint_filepath)"
      ],
      "metadata": {
        "id": "MDFpuPolFYRc",
        "outputId": "b45e4353-10ec-45df-e6d1-23ea5710cbc1",
        "_kg_hide-output": false,
        "execution": {
          "iopub.status.busy": "2021-06-28T21:19:34.187954Z",
          "iopub.execute_input": "2021-06-28T21:19:34.188325Z",
          "iopub.status.idle": "2021-06-28T21:40:04.073914Z",
          "shell.execute_reply.started": "2021-06-28T21:19:34.188280Z",
          "shell.execute_reply": "2021-06-28T21:40:04.073018Z"
        },
        "trusted": true,
        "colab": {
          "base_uri": "https://localhost:8080/"
        }
      },
      "execution_count": 15,
      "outputs": [
        {
          "output_type": "stream",
          "name": "stdout",
          "text": [
            "Training head...\n",
            "Epoch 1/15\n",
            "2439/2440 [============================>.] - ETA: 0s - loss: 0.8281 - accuracy: 0.5552\n",
            "Epoch 1: val_loss improved from inf to 0.69958, saving model to ModelWeights.h5\n",
            "2440/2440 [==============================] - 85s 34ms/step - loss: 0.8281 - accuracy: 0.5552 - val_loss: 0.6996 - val_accuracy: 0.6091 - lr: 1.0000e-05\n",
            "Epoch 2/15\n",
            "2439/2440 [============================>.] - ETA: 0s - loss: 0.5798 - accuracy: 0.6963\n",
            "Epoch 2: val_loss improved from 0.69958 to 0.48331, saving model to ModelWeights.h5\n",
            "2440/2440 [==============================] - 77s 32ms/step - loss: 0.5798 - accuracy: 0.6963 - val_loss: 0.4833 - val_accuracy: 0.7691 - lr: 1.8000e-05\n",
            "Epoch 3/15\n",
            "2440/2440 [==============================] - ETA: 0s - loss: 0.4170 - accuracy: 0.8129\n",
            "Epoch 3: val_loss improved from 0.48331 to 0.36200, saving model to ModelWeights.h5\n",
            "2440/2440 [==============================] - 77s 32ms/step - loss: 0.4170 - accuracy: 0.8129 - val_loss: 0.3620 - val_accuracy: 0.8456 - lr: 2.6000e-05\n",
            "Epoch 4/15\n",
            "2440/2440 [==============================] - ETA: 0s - loss: 0.3275 - accuracy: 0.8673\n",
            "Epoch 4: val_loss improved from 0.36200 to 0.29591, saving model to ModelWeights.h5\n",
            "2440/2440 [==============================] - 78s 32ms/step - loss: 0.3275 - accuracy: 0.8673 - val_loss: 0.2959 - val_accuracy: 0.8807 - lr: 3.4000e-05\n",
            "Epoch 5/15\n",
            "2440/2440 [==============================] - ETA: 0s - loss: 0.2755 - accuracy: 0.8912\n",
            "Epoch 5: val_loss improved from 0.29591 to 0.25554, saving model to ModelWeights.h5\n",
            "2440/2440 [==============================] - 77s 32ms/step - loss: 0.2755 - accuracy: 0.8912 - val_loss: 0.2555 - val_accuracy: 0.9037 - lr: 4.2000e-05\n",
            "Epoch 6/15\n",
            "2439/2440 [============================>.] - ETA: 0s - loss: 0.2403 - accuracy: 0.9087\n",
            "Epoch 6: val_loss improved from 0.25554 to 0.22771, saving model to ModelWeights.h5\n",
            "2440/2440 [==============================] - 77s 32ms/step - loss: 0.2402 - accuracy: 0.9087 - val_loss: 0.2277 - val_accuracy: 0.9135 - lr: 5.0000e-05\n",
            "Epoch 7/15\n",
            "2439/2440 [============================>.] - ETA: 0s - loss: 0.2171 - accuracy: 0.9185\n",
            "Epoch 7: val_loss improved from 0.22771 to 0.21374, saving model to ModelWeights.h5\n",
            "2440/2440 [==============================] - 77s 32ms/step - loss: 0.2171 - accuracy: 0.9185 - val_loss: 0.2137 - val_accuracy: 0.9173 - lr: 4.2000e-05\n",
            "Epoch 8/15\n",
            "2439/2440 [============================>.] - ETA: 0s - loss: 0.2026 - accuracy: 0.9230\n",
            "Epoch 8: val_loss improved from 0.21374 to 0.20366, saving model to ModelWeights.h5\n",
            "2440/2440 [==============================] - 78s 32ms/step - loss: 0.2025 - accuracy: 0.9231 - val_loss: 0.2037 - val_accuracy: 0.9235 - lr: 3.5600e-05\n",
            "Epoch 9/15\n",
            "2439/2440 [============================>.] - ETA: 0s - loss: 0.1929 - accuracy: 0.9288\n",
            "Epoch 9: val_loss improved from 0.20366 to 0.19944, saving model to ModelWeights.h5\n",
            "2440/2440 [==============================] - 77s 32ms/step - loss: 0.1929 - accuracy: 0.9288 - val_loss: 0.1994 - val_accuracy: 0.9233 - lr: 3.0480e-05\n",
            "Epoch 10/15\n",
            "2438/2440 [============================>.] - ETA: 0s - loss: 0.1854 - accuracy: 0.9327\n",
            "Epoch 10: val_loss improved from 0.19944 to 0.19176, saving model to ModelWeights.h5\n",
            "2440/2440 [==============================] - 77s 31ms/step - loss: 0.1856 - accuracy: 0.9327 - val_loss: 0.1918 - val_accuracy: 0.9271 - lr: 2.6384e-05\n",
            "Epoch 11/15\n",
            "2439/2440 [============================>.] - ETA: 0s - loss: 0.1793 - accuracy: 0.9352\n",
            "Epoch 11: val_loss improved from 0.19176 to 0.19065, saving model to ModelWeights.h5\n",
            "2440/2440 [==============================] - 78s 32ms/step - loss: 0.1796 - accuracy: 0.9351 - val_loss: 0.1906 - val_accuracy: 0.9273 - lr: 2.3107e-05\n",
            "Epoch 12/15\n",
            "2438/2440 [============================>.] - ETA: 0s - loss: 0.1750 - accuracy: 0.9383\n",
            "Epoch 12: val_loss improved from 0.19065 to 0.18512, saving model to ModelWeights.h5\n",
            "2440/2440 [==============================] - 78s 32ms/step - loss: 0.1754 - accuracy: 0.9381 - val_loss: 0.1851 - val_accuracy: 0.9288 - lr: 2.0486e-05\n",
            "Epoch 13/15\n",
            "2439/2440 [============================>.] - ETA: 0s - loss: 0.1717 - accuracy: 0.9385\n",
            "Epoch 13: val_loss improved from 0.18512 to 0.18242, saving model to ModelWeights.h5\n",
            "2440/2440 [==============================] - 77s 32ms/step - loss: 0.1717 - accuracy: 0.9385 - val_loss: 0.1824 - val_accuracy: 0.9297 - lr: 1.8389e-05\n",
            "Epoch 14/15\n",
            "2438/2440 [============================>.] - ETA: 0s - loss: 0.1688 - accuracy: 0.9402\n",
            "Epoch 14: val_loss improved from 0.18242 to 0.18075, saving model to ModelWeights.h5\n",
            "2440/2440 [==============================] - 77s 32ms/step - loss: 0.1687 - accuracy: 0.9403 - val_loss: 0.1807 - val_accuracy: 0.9309 - lr: 1.6711e-05\n",
            "Epoch 15/15\n",
            "2439/2440 [============================>.] - ETA: 0s - loss: 0.1659 - accuracy: 0.9410\n",
            "Epoch 15: val_loss improved from 0.18075 to 0.17859, saving model to ModelWeights.h5\n",
            "2440/2440 [==============================] - 78s 32ms/step - loss: 0.1659 - accuracy: 0.9410 - val_loss: 0.1786 - val_accuracy: 0.9316 - lr: 1.5369e-05\n",
            "\n",
            "Restoring best Weights for MobileNetV2\n"
          ]
        }
      ]
    },
    {
      "cell_type": "code",
      "source": [
        "%matplotlib inline\n",
        "\n",
        "# Graphs and summary for evaluate the model performance\n",
        "\n",
        "def print_graph(item, index, history):\n",
        "    plt.figure()\n",
        "    train_values = history.history[item][0:index]\n",
        "    plt.plot(train_values)\n",
        "    test_values = history.history['val_' + item][0:index]\n",
        "    plt.plot(test_values)\n",
        "    plt.legend(['training','validation'])\n",
        "    plt.title('Training and validation '+ item)\n",
        "    plt.xlabel('epoch')\n",
        "    plt.show()\n",
        "    plot = '{}.png'.format(item)\n",
        "    plt.savefig(plot)\n",
        "\n",
        "\n",
        "def get_best_epoch(test_loss, history):\n",
        "    for key, item in enumerate(history.history.items()):\n",
        "        (name, arr) = item\n",
        "        if name == 'val_loss':\n",
        "            for i in range(len(arr)):\n",
        "                if round(test_loss, 2) == round(arr[i], 2):\n",
        "                    return i\n",
        "\n",
        "def model_summary(model, history):\n",
        "    print('---'*30)\n",
        "    test_loss, test_accuracy = model.evaluate(X_test_nn, y_test, verbose=0)\n",
        "\n",
        "    if history:\n",
        "        index = get_best_epoch(test_loss, history)\n",
        "        print('Best Epochs: ', index)\n",
        "\n",
        "        train_accuracy = history.history['accuracy'][index]\n",
        "        train_loss = history.history['loss'][index]\n",
        "\n",
        "        print('Accuracy on train:',train_accuracy,'\\tLoss on train:',train_loss)\n",
        "        print('Accuracy on test:',test_accuracy,'\\tLoss on test:',test_loss)\n",
        "        print_graph('loss', index, history)\n",
        "        print_graph('accuracy', index, history)\n",
        "        print('---'*30)"
      ],
      "metadata": {
        "execution": {
          "iopub.status.busy": "2021-06-28T21:41:11.914488Z",
          "iopub.execute_input": "2021-06-28T21:41:11.914827Z",
          "iopub.status.idle": "2021-06-28T21:41:11.933416Z",
          "shell.execute_reply.started": "2021-06-28T21:41:11.914793Z",
          "shell.execute_reply": "2021-06-28T21:41:11.932620Z"
        },
        "trusted": true,
        "id": "Jt9JghI88Qwi"
      },
      "execution_count": 16,
      "outputs": []
    },
    {
      "cell_type": "code",
      "source": [
        "model_summary(model, history)"
      ],
      "metadata": {
        "execution": {
          "iopub.status.busy": "2021-06-28T21:41:15.265489Z",
          "iopub.execute_input": "2021-06-28T21:41:15.265817Z",
          "iopub.status.idle": "2021-06-28T21:41:18.543465Z",
          "shell.execute_reply.started": "2021-06-28T21:41:15.265788Z",
          "shell.execute_reply": "2021-06-28T21:41:18.542383Z"
        },
        "trusted": true,
        "colab": {
          "base_uri": "https://localhost:8080/",
          "height": 1000
        },
        "id": "pua_J3j08Qwi",
        "outputId": "53dd23ab-e1df-497f-cd2e-e50d78cc4997"
      },
      "execution_count": 17,
      "outputs": [
        {
          "output_type": "stream",
          "name": "stdout",
          "text": [
            "------------------------------------------------------------------------------------------\n",
            "Best Epochs:  12\n",
            "Accuracy on train: 0.938524603843689 \tLoss on train: 0.17168425023555756\n",
            "Accuracy on test: 0.9316279888153076 \tLoss on test: 0.1785876452922821\n"
          ]
        },
        {
          "output_type": "display_data",
          "data": {
            "text/plain": [
              "<Figure size 640x480 with 1 Axes>"
            ],
            "image/png": "[encoded data removed]"
          },
          "metadata": {}
        },
        {
          "output_type": "display_data",
          "data": {
            "text/plain": [
              "<Figure size 640x480 with 0 Axes>"
            ]
          },
          "metadata": {}
        },
        {
          "output_type": "display_data",
          "data": {
            "text/plain": [
              "<Figure size 640x480 with 1 Axes>"
            ],
            "image/png": "[encoded data removed]"
          },
          "metadata": {}
        },
        {
          "output_type": "stream",
          "name": "stdout",
          "text": [
            "------------------------------------------------------------------------------------------\n"
          ]
        },
        {
          "output_type": "display_data",
          "data": {
            "text/plain": [
              "<Figure size 640x480 with 0 Axes>"
            ]
          },
          "metadata": {}
        }
      ]
    },
    {
      "cell_type": "markdown",
      "source": [
        "## **Evaluation on test set**"
      ],
      "metadata": {
        "id": "HnGdQeps8Qwi"
      }
    },
    {
      "cell_type": "code",
      "source": [
        "# evaluate the network with a Threshold of 0.5\n",
        "print(\"Evaluating network...\")\n",
        "predictions = model.predict(X_test_nn)\n",
        "preds = predictions > 0.5"
      ],
      "metadata": {
        "id": "RDJb2EZDtwH2",
        "outputId": "68a83104-1353-4fb7-f227-e68b557c89a4",
        "execution": {
          "iopub.status.busy": "2021-06-28T21:41:25.755863Z",
          "iopub.execute_input": "2021-06-28T21:41:25.756227Z",
          "iopub.status.idle": "2021-06-28T21:41:28.541319Z",
          "shell.execute_reply.started": "2021-06-28T21:41:25.756189Z",
          "shell.execute_reply": "2021-06-28T21:41:28.540479Z"
        },
        "trusted": true,
        "colab": {
          "base_uri": "https://localhost:8080/"
        }
      },
      "execution_count": 18,
      "outputs": [
        {
          "output_type": "stream",
          "name": "stdout",
          "text": [
            "Evaluating network...\n",
            "131/131 [==============================] - 10s 70ms/step\n"
          ]
        }
      ]
    },
    {
      "cell_type": "code",
      "source": [
        "import seaborn as sns\n",
        "from sklearn import metrics\n",
        "from sklearn.metrics import roc_curve, roc_auc_score, RocCurveDisplay, accuracy_score, classification_report, confusion_matrix\n",
        "corr_pred = metrics.confusion_matrix(y_test, preds)\n",
        "\n",
        "n_correct = np.int32((corr_pred[0][0] + corr_pred[1][1]))\n",
        "print('> Correct Predictions:', n_correct)\n",
        "n_wrongs = np.int32((corr_pred[0][1] + (corr_pred[1][0])))\n",
        "print('> Wrong Predictions:', n_wrongs)\n",
        "\n",
        "sns.heatmap(corr_pred,annot=True, fmt=\"d\",cmap=\"Blues\")\n",
        "plt.show()\n",
        "\n",
        "print(metrics.classification_report(y_test, preds,\n",
        "                           target_names=[\"NonViolence\", \"Violence\"]))"
      ],
      "metadata": {
        "execution": {
          "iopub.status.busy": "2021-06-28T21:41:29.601622Z",
          "iopub.execute_input": "2021-06-28T21:41:29.601949Z",
          "iopub.status.idle": "2021-06-28T21:41:29.957269Z",
          "shell.execute_reply.started": "2021-06-28T21:41:29.601912Z",
          "shell.execute_reply": "2021-06-28T21:41:29.956236Z"
        },
        "trusted": true,
        "colab": {
          "base_uri": "https://localhost:8080/",
          "height": 627
        },
        "id": "cmwh9eto8Qwj",
        "outputId": "6d7c6d42-08cc-487b-e471-a312686d7bac"
      },
      "execution_count": 19,
      "outputs": [
        {
          "output_type": "stream",
          "name": "stdout",
          "text": [
            "> Correct Predictions: 3897\n",
            "> Wrong Predictions: 286\n"
          ]
        },
        {
          "output_type": "display_data",
          "data": {
            "text/plain": [
              "<Figure size 640x480 with 2 Axes>"
            ],
            "image/png": "[encoded data removed]"
          },
          "metadata": {}
        },
        {
          "output_type": "stream",
          "name": "stdout",
          "text": [
            "              precision    recall  f1-score   support\n",
            "\n",
            " NonViolence       0.92      0.91      0.92      1769\n",
            "    Violence       0.94      0.95      0.94      2414\n",
            "\n",
            "    accuracy                           0.93      4183\n",
            "   macro avg       0.93      0.93      0.93      4183\n",
            "weighted avg       0.93      0.93      0.93      4183\n",
            "\n"
          ]
        }
      ]
    },
    {
      "cell_type": "code",
      "source": [
        " # Save model\n",
        " args_model = \"model.h5\"\n",
        " model.save(args_model)\n",
        " model = load_model('model.h5')"
      ],
      "metadata": {
        "id": "QC4GtxqMtt81",
        "execution": {
          "iopub.status.busy": "2021-06-27T12:26:57.761213Z",
          "iopub.execute_input": "2021-06-27T12:26:57.76156Z",
          "iopub.status.idle": "2021-06-27T12:26:58.023373Z",
          "shell.execute_reply.started": "2021-06-27T12:26:57.761526Z",
          "shell.execute_reply": "2021-06-27T12:26:58.02252Z"
        },
        "trusted": true,
        "colab": {
          "base_uri": "https://localhost:8080/"
        },
        "outputId": "09c6d390-9ab8-4874-f3ee-b6edef013d3e"
      },
      "execution_count": 23,
      "outputs": [
        {
          "output_type": "stream",
          "name": "stderr",
          "text": [
            "/usr/local/lib/python3.10/dist-packages/keras/src/engine/training.py:3103: UserWarning: You are saving your model as an HDF5 file via `model.save()`. This file format is considered legacy. We recommend using instead the native Keras format, e.g. `model.save('my_model.keras')`.\n",
            "  saving_api.save_model(\n"
          ]
        }
      ]
    },
    {
      "cell_type": "markdown",
      "source": [
        "## Visual test of the accuracy of the model"
      ],
      "metadata": {
        "id": "kUqg7pi7HsTk"
      }
    },
    {
      "cell_type": "code",
      "source": [
        "# Extract video frame and save image\n",
        "from PIL import Image\n",
        "image_file = video_to_frames('/content/drive/MyDrive/Computer-vision/real-life-violence-situations/Real-Life-Violence-Dataset/Violence/V_30.mp4')[0]\n",
        "im = Image.fromarray(image_file)\n",
        "im.save(\"inference.jpeg\")\n",
        "\n",
        "image_file"
      ],
      "metadata": {
        "colab": {
          "base_uri": "https://localhost:8080/",
          "height": 169
        },
        "id": "Rn6gLvRb6nQP",
        "outputId": "316fce63-8315-44c2-80ab-ce46a03b59b2"
      },
      "execution_count": 53,
      "outputs": [
        {
          "output_type": "execute_result",
          "data": {
            "text/plain": [
              "array([[[0, 0, 0],\n",
              "        [0, 0, 0],\n",
              "        [0, 0, 0],\n",
              "        ...,\n",
              "        [0, 0, 0],\n",
              "        [0, 0, 0],\n",
              "        [0, 0, 0]],\n",
              "\n",
              "       [[0, 0, 0],\n",
              "        [0, 0, 0],\n",
              "        [0, 0, 0],\n",
              "        ...,\n",
              "        [0, 0, 0],\n",
              "        [0, 0, 0],\n",
              "        [0, 0, 0]],\n",
              "\n",
              "       [[0, 0, 0],\n",
              "        [0, 0, 0],\n",
              "        [0, 0, 0],\n",
              "        ...,\n",
              "        [0, 0, 0],\n",
              "        [0, 0, 0],\n",
              "        [0, 0, 0]],\n",
              "\n",
              "       ...,\n",
              "\n",
              "       [[0, 0, 0],\n",
              "        [0, 0, 0],\n",
              "        [0, 0, 0],\n",
              "        ...,\n",
              "        [0, 0, 0],\n",
              "        [0, 0, 0],\n",
              "        [0, 0, 0]],\n",
              "\n",
              "       [[0, 0, 0],\n",
              "        [0, 0, 0],\n",
              "        [0, 0, 0],\n",
              "        ...,\n",
              "        [0, 0, 0],\n",
              "        [0, 0, 0],\n",
              "        [0, 0, 0]],\n",
              "\n",
              "       [[0, 0, 0],\n",
              "        [0, 0, 0],\n",
              "        [0, 0, 0],\n",
              "        ...,\n",
              "        [0, 0, 0],\n",
              "        [0, 0, 0],\n",
              "        [0, 0, 0]]], dtype=uint8)"
            ],
            "text/html": [
              "<style>\n",
              "      .ndarray_repr .ndarray_raw_data {\n",
              "        display: none;\n",
              "      }\n",
              "      .ndarray_repr.show_array .ndarray_raw_data {\n",
              "        display: block;\n",
              "      }\n",
              "      .ndarray_repr.show_array .ndarray_image_preview {\n",
              "        display: none;\n",
              "      }\n",
              "      </style>\n",
              "      <div id=\"id-922c3ca1-808e-4f91-8b85-9bc6cb123fdb\" class=\"ndarray_repr\"><pre>ndarray (128, 128, 3) <button style=\"padding: 0 2px;\">show data</button></pre><img src=\"data:image/png;base64,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\" class=\"ndarray_image_preview\" /><pre class=\"ndarray_raw_data\">array([[[0, 0, 0],\n",
              "        [0, 0, 0],\n",
              "        [0, 0, 0],\n",
              "        ...,\n",
              "        [0, 0, 0],\n",
              "        [0, 0, 0],\n",
              "        [0, 0, 0]],\n",
              "\n",
              "       [[0, 0, 0],\n",
              "        [0, 0, 0],\n",
              "        [0, 0, 0],\n",
              "        ...,\n",
              "        [0, 0, 0],\n",
              "        [0, 0, 0],\n",
              "        [0, 0, 0]],\n",
              "\n",
              "       [[0, 0, 0],\n",
              "        [0, 0, 0],\n",
              "        [0, 0, 0],\n",
              "        ...,\n",
              "        [0, 0, 0],\n",
              "        [0, 0, 0],\n",
              "        [0, 0, 0]],\n",
              "\n",
              "       ...,\n",
              "\n",
              "       [[0, 0, 0],\n",
              "        [0, 0, 0],\n",
              "        [0, 0, 0],\n",
              "        ...,\n",
              "        [0, 0, 0],\n",
              "        [0, 0, 0],\n",
              "        [0, 0, 0]],\n",
              "\n",
              "       [[0, 0, 0],\n",
              "        [0, 0, 0],\n",
              "        [0, 0, 0],\n",
              "        ...,\n",
              "        [0, 0, 0],\n",
              "        [0, 0, 0],\n",
              "        [0, 0, 0]],\n",
              "\n",
              "       [[0, 0, 0],\n",
              "        [0, 0, 0],\n",
              "        [0, 0, 0],\n",
              "        ...,\n",
              "        [0, 0, 0],\n",
              "        [0, 0, 0],\n",
              "        [0, 0, 0]]], dtype=uint8)</pre></div><script>\n",
              "      (() => {\n",
              "      const titles = ['show data', 'hide data'];\n",
              "      let index = 0\n",
              "      document.querySelector('#id-922c3ca1-808e-4f91-8b85-9bc6cb123fdb button').onclick = (e) => {\n",
              "        document.querySelector('#id-922c3ca1-808e-4f91-8b85-9bc6cb123fdb').classList.toggle('show_array');\n",
              "        index = (++index) % 2;\n",
              "        document.querySelector('#id-922c3ca1-808e-4f91-8b85-9bc6cb123fdb button').textContent = titles[index];\n",
              "        e.preventDefault();\n",
              "        e.stopPropagation();\n",
              "      }\n",
              "      })();\n",
              "    </script>"
            ]
          },
          "metadata": {},
          "execution_count": 53
        }
      ]
    },
    {
      "cell_type": "code",
      "source": [
        "# Use the image just obtained and generate a prediction classifing ig it's Violence or not, with a Threshold of 0.5\n",
        "import numpy as np\n",
        "from keras.preprocessing import image\n",
        "\n",
        "img_width, img_height = 128, 128\n",
        "img = image.load_img(\"inference.jpeg\", target_size = (img_width, img_height))\n",
        "img = image.img_to_array(img)\n",
        "img = np.expand_dims(img, axis = 0)\n",
        "\n",
        "if model.predict(img) > 0.5:\n",
        "  print(model.predict(img), \" Violence\")\n",
        "else:\n",
        "  print(model.predict(img), \" NonViolence\")"
      ],
      "metadata": {
        "colab": {
          "base_uri": "https://localhost:8080/"
        },
        "id": "frIHXHM4872e",
        "outputId": "b4c74a78-526d-4477-b7c1-735dc9e03bc3"
      },
      "execution_count": 54,
      "outputs": [
        {
          "output_type": "stream",
          "name": "stdout",
          "text": [
            "1/1 [==============================] - 0s 35ms/step\n",
            "1/1 [==============================] - 0s 33ms/step\n",
            "[[0.39194608]]  NonViolence\n"
          ]
        }
      ]
    }
  ]
}