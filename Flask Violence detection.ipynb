{
 "cells": [
  {
   "cell_type": "markdown",
   "id": "43747d51-0831-4049-bbab-f1105b0d1187",
   "metadata": {},
   "source": [
    "# This code generate a Flask Web APP to predict and classify images, detecting if there's Violence or not\n",
    "\n",
    "This codes includes function to create thumbnails of the videos in the dataset.\n",
    "\n",
    "It uses the models generated on the Train_violence_model.ipynb file"
   ]
  },
  {
   "cell_type": "code",
   "execution_count": 32,
   "id": "61909ad8-02d9-47d3-9e0d-d9addbe9f417",
   "metadata": {},
   "outputs": [
    {
     "name": "stdout",
     "output_type": "stream",
     "text": [
      "Requirement already satisfied: Flask in c:\\users\\jpti\\anaconda3\\lib\\site-packages (2.2.5)\n",
      "Requirement already satisfied: Werkzeug>=2.2.2 in c:\\users\\jpti\\anaconda3\\lib\\site-packages (from Flask) (2.3.8)\n",
      "Requirement already satisfied: Jinja2>=3.0 in c:\\users\\jpti\\anaconda3\\lib\\site-packages (from Flask) (3.1.3)\n",
      "Requirement already satisfied: itsdangerous>=2.0 in c:\\users\\jpti\\anaconda3\\lib\\site-packages (from Flask) (2.0.1)\n",
      "Requirement already satisfied: click>=8.0 in c:\\users\\jpti\\anaconda3\\lib\\site-packages (from Flask) (8.1.7)\n",
      "Requirement already satisfied: colorama in c:\\users\\jpti\\anaconda3\\lib\\site-packages (from click>=8.0->Flask) (0.4.6)\n",
      "Requirement already satisfied: MarkupSafe>=2.0 in c:\\users\\jpti\\anaconda3\\lib\\site-packages (from Jinja2>=3.0->Flask) (2.1.3)\n",
      "Collecting imgaug\n",
      "  Downloading imgaug-0.4.0-py2.py3-none-any.whl.metadata (1.8 kB)\n",
      "Requirement already satisfied: six in c:\\users\\jpti\\appdata\\roaming\\python\\python311\\site-packages (from imgaug) (1.16.0)\n",
      "Requirement already satisfied: numpy>=1.15 in c:\\users\\jpti\\appdata\\roaming\\python\\python311\\site-packages (from imgaug) (1.26.4)\n",
      "Requirement already satisfied: scipy in c:\\users\\jpti\\anaconda3\\lib\\site-packages (from imgaug) (1.11.4)\n",
      "Requirement already satisfied: Pillow in c:\\users\\jpti\\appdata\\roaming\\python\\python311\\site-packages (from imgaug) (10.2.0)\n",
      "Requirement already satisfied: matplotlib in c:\\users\\jpti\\appdata\\roaming\\python\\python311\\site-packages (from imgaug) (3.8.2)\n",
      "Requirement already satisfied: scikit-image>=0.14.2 in c:\\users\\jpti\\anaconda3\\lib\\site-packages (from imgaug) (0.22.0)\n",
      "Requirement already satisfied: opencv-python in c:\\users\\jpti\\anaconda3\\lib\\site-packages (from imgaug) (4.8.1.78)\n",
      "Requirement already satisfied: imageio in c:\\users\\jpti\\anaconda3\\lib\\site-packages (from imgaug) (2.33.1)\n",
      "Requirement already satisfied: Shapely in c:\\users\\jpti\\anaconda3\\lib\\site-packages (from imgaug) (2.0.1)\n",
      "Requirement already satisfied: networkx>=2.8 in c:\\users\\jpti\\anaconda3\\lib\\site-packages (from scikit-image>=0.14.2->imgaug) (3.1)\n",
      "Requirement already satisfied: tifffile>=2022.8.12 in c:\\users\\jpti\\anaconda3\\lib\\site-packages (from scikit-image>=0.14.2->imgaug) (2023.4.12)\n",
      "Requirement already satisfied: packaging>=21 in c:\\users\\jpti\\appdata\\roaming\\python\\python311\\site-packages (from scikit-image>=0.14.2->imgaug) (23.2)\n",
      "Requirement already satisfied: lazy_loader>=0.3 in c:\\users\\jpti\\anaconda3\\lib\\site-packages (from scikit-image>=0.14.2->imgaug) (0.3)\n",
      "Requirement already satisfied: contourpy>=1.0.1 in c:\\users\\jpti\\appdata\\roaming\\python\\python311\\site-packages (from matplotlib->imgaug) (1.2.0)\n",
      "Requirement already satisfied: cycler>=0.10 in c:\\users\\jpti\\appdata\\roaming\\python\\python311\\site-packages (from matplotlib->imgaug) (0.12.1)\n",
      "Requirement already satisfied: fonttools>=4.22.0 in c:\\users\\jpti\\appdata\\roaming\\python\\python311\\site-packages (from matplotlib->imgaug) (4.48.1)\n",
      "Requirement already satisfied: kiwisolver>=1.3.1 in c:\\users\\jpti\\appdata\\roaming\\python\\python311\\site-packages (from matplotlib->imgaug) (1.4.5)\n",
      "Requirement already satisfied: pyparsing>=2.3.1 in c:\\users\\jpti\\appdata\\roaming\\python\\python311\\site-packages (from matplotlib->imgaug) (3.1.1)\n",
      "Requirement already satisfied: python-dateutil>=2.7 in c:\\users\\jpti\\appdata\\roaming\\python\\python311\\site-packages (from matplotlib->imgaug) (2.8.2)\n",
      "Downloading imgaug-0.4.0-py2.py3-none-any.whl (948 kB)\n",
      "   ---------------------------------------- 0.0/948.0 kB ? eta -:--:--\n",
      "    -------------------------------------- 20.5/948.0 kB 320.0 kB/s eta 0:00:03\n",
      "   - ------------------------------------- 41.0/948.0 kB 487.6 kB/s eta 0:00:02\n",
      "   ---- --------------------------------- 112.6/948.0 kB 930.9 kB/s eta 0:00:01\n",
      "   ----- -------------------------------- 143.4/948.0 kB 847.9 kB/s eta 0:00:01\n",
      "   ----------- ---------------------------- 276.5/948.0 kB 1.2 MB/s eta 0:00:01\n",
      "   ---------------------- ----------------- 532.5/948.0 kB 2.1 MB/s eta 0:00:01\n",
      "   --------------------------- ------------ 645.1/948.0 kB 2.1 MB/s eta 0:00:01\n",
      "   ---------------------------------------  931.8/948.0 kB 2.7 MB/s eta 0:00:01\n",
      "   ---------------------------------------- 948.0/948.0 kB 2.6 MB/s eta 0:00:00\n",
      "Installing collected packages: imgaug\n",
      "Successfully installed imgaug-0.4.0\n"
     ]
    }
   ],
   "source": [
    "# Install necesary libs\n",
    "!pip install Flask\n",
    "!pip install imgaug"
   ]
  },
  {
   "cell_type": "code",
   "execution_count": 46,
   "id": "f1e51221-df87-4c2d-b28b-d56635303ace",
   "metadata": {},
   "outputs": [
    {
     "name": "stdout",
     "output_type": "stream",
     "text": [
      "Thumbnails generated successfully.\n"
     ]
    }
   ],
   "source": [
    "# Used once for creating thumbnails of videos\n",
    "import os\n",
    "import subprocess\n",
    "\n",
    "# Specify the directory containing your videos\n",
    "video_directory = './archive/Real Life Violence Dataset/NonViolence'\n",
    "\n",
    "# Specify the directory where you want to save the thumbnails\n",
    "thumbnail_directory = './archive/Real Life Violence Dataset/NonViolence/thumbnails'\n",
    "\n",
    "# Ensure the thumbnail directory exists\n",
    "if not os.path.exists(thumbnail_directory):\n",
    "    os.makedirs(thumbnail_directory)\n",
    "\n",
    "# Iterate over each file in the video directory\n",
    "for filename in os.listdir(video_directory):\n",
    "    # Check if the file is a video (you might need to adjust the condition based on your video formats)\n",
    "    if filename.endswith(('.mp4', '.avi', '.mkv')):\n",
    "        # Construct the full path to the video file\n",
    "        video_path = os.path.join(video_directory, filename)\n",
    "        \n",
    "        # Construct the output path for the thumbnail\n",
    "        thumbnail_path = os.path.join(thumbnail_directory, filename + '.jpg')\n",
    "        \n",
    "        # Use FFmpeg to generate a thumbnail from the video\n",
    "        # This command extracts a frame at 10 seconds into the video and saves it as a JPEG\n",
    "        subprocess.call(['ffmpeg', '-ss', '00:00:1.000', '-i', video_path, '-vframes', '1', thumbnail_path])\n",
    "\n",
    "print(\"Thumbnails generated successfully.\")"
   ]
  },
  {
   "cell_type": "code",
   "execution_count": 33,
   "id": "fb96b371-337e-47ea-8749-b6613278c334",
   "metadata": {},
   "outputs": [],
   "source": [
    "# Function to Extract frames from videos\n",
    "import cv2\n",
    "import os\n",
    "import imageio\n",
    "import imgaug.augmenters as iaa\n",
    "import imgaug as ia\n",
    "\n",
    "IMG_SIZE = 128\n",
    "ColorChannels = 3\n",
    "\n",
    "def video_to_frames(video):\n",
    "    vidcap = cv2.VideoCapture(video)\n",
    "\n",
    "    import math\n",
    "    rate = math.floor(vidcap.get(3))\n",
    "    count = 0\n",
    "\n",
    "    ImageFrames = []\n",
    "    while vidcap.isOpened():\n",
    "        ID = vidcap.get(1)\n",
    "        success, image = vidcap.read()\n",
    "\n",
    "        if success:\n",
    "            # skipping frames to avoid duplications\n",
    "            if (ID % 7 == 0):\n",
    "                flip = iaa.Fliplr(1.0)\n",
    "                zoom = iaa.Affine(scale=1.3)\n",
    "                random_brightness = iaa.Multiply((1, 1.3))\n",
    "                rotate = iaa.Affine(rotate=(-25, 25))\n",
    "\n",
    "                image_aug = flip(image = image)\n",
    "                image_aug = random_brightness(image = image_aug)\n",
    "                image_aug = zoom(image = image_aug)\n",
    "                image_aug = rotate(image = image_aug)\n",
    "\n",
    "                rgb_img = cv2.cvtColor(image_aug, cv2.COLOR_BGR2RGB)\n",
    "                resized = cv2.resize(rgb_img, (IMG_SIZE, IMG_SIZE))\n",
    "                ImageFrames.append(resized)\n",
    "\n",
    "            count += 1\n",
    "        else:\n",
    "            break\n",
    "\n",
    "    vidcap.release()\n",
    "\n",
    "    return ImageFrames"
   ]
  },
  {
   "cell_type": "code",
   "execution_count": 38,
   "id": "ceed7535-a92e-4452-8a01-cfe95b98396b",
   "metadata": {},
   "outputs": [
    {
     "name": "stdout",
     "output_type": "stream",
     "text": [
      "WARNING:tensorflow:From C:\\Users\\jpti\\anaconda3\\Lib\\site-packages\\keras\\src\\backend.py:1398: The name tf.executing_eagerly_outside_functions is deprecated. Please use tf.compat.v1.executing_eagerly_outside_functions instead.\n",
      "\n",
      "WARNING:tensorflow:From C:\\Users\\jpti\\anaconda3\\Lib\\site-packages\\keras\\src\\layers\\normalization\\batch_normalization.py:979: The name tf.nn.fused_batch_norm is deprecated. Please use tf.compat.v1.nn.fused_batch_norm instead.\n",
      "\n"
     ]
    }
   ],
   "source": [
    "#Load trained model\n",
    "from keras.models import load_model\n",
    "\n",
    "model = load_model('model.h5')"
   ]
  },
  {
   "cell_type": "code",
   "execution_count": 142,
   "id": "2e4c20ab-5715-4609-9f3f-4dd8b3eeb467",
   "metadata": {},
   "outputs": [
    {
     "name": "stderr",
     "output_type": "stream",
     "text": [
      "WARNING: This is a development server. Do not use it in a production deployment. Use a production WSGI server instead.\n",
      " * Running on http://localhost:9000\n",
      "Press CTRL+C to quit\n",
      "127.0.0.1 - - [20/Apr/2024 22:52:50] \"GET /select_video HTTP/1.1\" 405 -\n"
     ]
    },
    {
     "name": "stdout",
     "output_type": "stream",
     "text": [
      "1/1 [==============================] - 0s 25ms/step\n"
     ]
    },
    {
     "name": "stderr",
     "output_type": "stream",
     "text": [
      "127.0.0.1 - - [20/Apr/2024 22:52:54] \"GET / HTTP/1.1\" 200 -\n",
      "127.0.0.1 - - [20/Apr/2024 22:52:55] \"GET /static/Violence/thumbnails/V_42.mp4.jpg HTTP/1.1\" 200 -\n"
     ]
    },
    {
     "name": "stdout",
     "output_type": "stream",
     "text": [
      "1/1 [==============================] - 0s 24ms/step\n"
     ]
    },
    {
     "name": "stderr",
     "output_type": "stream",
     "text": [
      "127.0.0.1 - - [20/Apr/2024 22:52:57] \"POST /select_video HTTP/1.1\" 200 -\n",
      "127.0.0.1 - - [20/Apr/2024 22:52:57] \"GET /static/Violence/thumbnails/V_513.mp4.jpg HTTP/1.1\" 200 -\n"
     ]
    },
    {
     "name": "stdout",
     "output_type": "stream",
     "text": [
      "1/1 [==============================] - 0s 24ms/step\n"
     ]
    },
    {
     "name": "stderr",
     "output_type": "stream",
     "text": [
      "127.0.0.1 - - [20/Apr/2024 22:52:59] \"POST /select_video HTTP/1.1\" 200 -\n",
      "127.0.0.1 - - [20/Apr/2024 22:52:59] \"GET /static/Violence/thumbnails/V_879.mp4.jpg HTTP/1.1\" 200 -\n"
     ]
    },
    {
     "name": "stdout",
     "output_type": "stream",
     "text": [
      "1/1 [==============================] - 0s 24ms/step\n"
     ]
    },
    {
     "name": "stderr",
     "output_type": "stream",
     "text": [
      "127.0.0.1 - - [20/Apr/2024 22:53:01] \"POST /select_video HTTP/1.1\" 200 -\n",
      "127.0.0.1 - - [20/Apr/2024 22:53:01] \"GET /static/Violence/thumbnails/V_6.mp4.jpg HTTP/1.1\" 200 -\n"
     ]
    },
    {
     "name": "stdout",
     "output_type": "stream",
     "text": [
      "1/1 [==============================] - 0s 24ms/step\n"
     ]
    },
    {
     "name": "stderr",
     "output_type": "stream",
     "text": [
      "127.0.0.1 - - [20/Apr/2024 22:53:05] \"POST /select_video HTTP/1.1\" 200 -\n",
      "127.0.0.1 - - [20/Apr/2024 22:53:05] \"GET /static/Violence/thumbnails/V_155.mp4.jpg HTTP/1.1\" 304 -\n"
     ]
    }
   ],
   "source": [
    "from flask import Flask, render_template, request, Response\n",
    "import os\n",
    "import random\n",
    "\n",
    "thumbnails = os.path.join('static', 'Violence','thumbnails')\n",
    "videos = os.path.join('static', 'Violence',)\n",
    "app = Flask(__name__)\n",
    "app.config['UPLOAD_FOLDER'] = thumbnails\n",
    "\n",
    "@app.route('/')\n",
    "def list_videos():\n",
    "    #List random file from directory\n",
    "    video_directory = './static/Violence'\n",
    "    all_files = os.listdir(video_directory)\n",
    "    video_files = [f for f in all_files if f.endswith(('.mp4', '.avi', '.mkv'))]\n",
    "    random_videos = random.sample(video_files, min(1, len(video_files)))\n",
    "    full_filename = os.path.join(app.config['UPLOAD_FOLDER'], random_videos[0] + '.jpg')\n",
    "    full_filename_video = os.path.join(videos, random_videos[0])\n",
    "\n",
    "    image_file = video_to_frames(full_filename)[0]\n",
    "    im = Image.fromarray(image_file)\n",
    "    im.save(\"inference.jpeg\")\n",
    "    \n",
    "    img_width, img_height = 128, 128\n",
    "    img = image.load_img(\"inference.jpeg\", target_size = (img_width, img_height))\n",
    "    img = image.img_to_array(img)\n",
    "    img = np.expand_dims(img, axis = 0)\n",
    "    return render_template('videos.html', videos=random_videos, images = full_filename, detection = model.predict(img))\n",
    "\n",
    "@app.route('/select_video', methods=['POST'])\n",
    "def select_video():\n",
    "    #List random file from directory\n",
    "    video_directory = './static/Violence'\n",
    "    all_files = os.listdir(video_directory)\n",
    "    video_files = [f for f in all_files if f.endswith(('.mp4', '.avi', '.mkv'))]\n",
    "    random_videos = random.sample(video_files, min(1, len(video_files)))\n",
    "    full_filename = os.path.join(app.config['UPLOAD_FOLDER'], random_videos[0] + '.jpg')\n",
    "    full_filename_video = os.path.join(videos, random_videos[0])\n",
    "\n",
    "    image_file = video_to_frames(full_filename)[0]\n",
    "    im = Image.fromarray(image_file)\n",
    "    im.save(\"inference.jpeg\")\n",
    "    \n",
    "    img_width, img_height = 128, 128\n",
    "    img = image.load_img(\"inference.jpeg\", target_size = (img_width, img_height))\n",
    "    img = image.img_to_array(img)\n",
    "    img = np.expand_dims(img, axis = 0)\n",
    "    return render_template('videos.html', videos=random_videos, images = full_filename, detection = model.predict(img))\n",
    "\n",
    "if __name__ == '__main__':\n",
    "    from werkzeug.serving import run_simple\n",
    "    run_simple('localhost', 9000, app)"
   ]
  },
  {
   "cell_type": "code",
   "execution_count": null,
   "id": "a26b12a6-bb91-4f56-b6ea-1b9a3c590d27",
   "metadata": {},
   "outputs": [],
   "source": []
  }
 ],
 "metadata": {
  "kernelspec": {
   "display_name": "Python 3 (ipykernel)",
   "language": "python",
   "name": "python3"
  },
  "language_info": {
   "codemirror_mode": {
    "name": "ipython",
    "version": 3
   },
   "file_extension": ".py",
   "mimetype": "text/x-python",
   "name": "python",
   "nbconvert_exporter": "python",
   "pygments_lexer": "ipython3",
   "version": "3.11.8"
  },
  "widgets": {
   "application/vnd.jupyter.widget-state+json": {
    "state": {},
    "version_major": 2,
    "version_minor": 0
   }
  }
 },
 "nbformat": 4,
 "nbformat_minor": 5
}
